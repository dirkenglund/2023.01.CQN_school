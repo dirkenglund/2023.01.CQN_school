{
  "cells": [
    {
      "cell_type": "markdown",
      "metadata": {
        "id": "view-in-github",
        "colab_type": "text"
      },
      "source": [
        "<a href=\"https://colab.research.google.com/github/dirkenglund/2023.01.CQN_school/blob/main/2023_01_06_Dielectric_waveguides_with_exercises.ipynb\" target=\"_parent\"><img src=\"https://colab.research.google.com/assets/colab-badge.svg\" alt=\"Open In Colab\"/></a>"
      ]
    },
    {
      "cell_type": "markdown",
      "metadata": {
        "id": "qTCy4aWdLLK0"
      },
      "source": [
        "# Dielectric waveguides\n"
      ]
    },
    {
      "cell_type": "code",
      "source": [
        "!pip install mathjax\n",
        "import sympy as sp"
      ],
      "metadata": {
        "id": "tTpYS8-T7Rs3",
        "colab": {
          "base_uri": "https://localhost:8080/"
        },
        "outputId": "8946a238-8a22-4a38-dae5-729e08673ff8"
      },
      "execution_count": null,
      "outputs": [
        {
          "output_type": "stream",
          "name": "stdout",
          "text": [
            "Looking in indexes: https://pypi.org/simple, https://us-python.pkg.dev/colab-wheels/public/simple/\n",
            "Requirement already satisfied: mathjax in /usr/local/lib/python3.8/dist-packages (0.1.2)\n"
          ]
        }
      ]
    },
    {
      "cell_type": "markdown",
      "metadata": {
        "id": "3PEzFmTjLLK2"
      },
      "source": [
        "Let's try to solve for the optical modes within a dielectric waveguide, defined by a spatially dependent permittivity $\\varepsilon(\\mathbf{r})$. \n",
        "\n",
        "###Problem Statement: \n",
        "Solve for the electromagnetic modes in a length $L_z$ of a waveguide that has width $w$, height $h$, and length $L_z$. \n",
        "\n",
        "***\n",
        "###Approach: \n",
        "We need to solve Maxwell's equations in this volume for \n",
        "the electric field $\\mathbf{E}$. We consider the problem in a volume of dimenions $L_x\\gg w$, $L_y\\gg h$, and length $L_z$. We assume vanishing fields on the transverse boundaries and periodic boundary conditions in $z$. \n",
        "\n",
        "In an arbitrary medium, the equations are modified to take into account the material properties of the medium, through the use of the electric permittivity $\\varepsilon(\\mathbf{r})$ and the magnetic permeability $\\mu(\\mathbf{r})$:\n",
        "\n",
        "\n",
        "\n",
        "$$ \\begin{aligned}\\label{eq:MW}\n",
        "\\nabla\\cdot\\mathbf{D} &= \\rho \\\\\n",
        "\\nabla\\cdot\\mathbf{B} &= 0 \\\\\n",
        "\\nabla\\times\\mathbf{E} &= -\\frac{\\partial\\mathbf{B}}{\\partial t} \\\\ \\nabla\\times\\mathbf{H} &= \\mathbf{J}+\\frac{\\partial\\mathbf{D}}{\\partial t}\n",
        "\\end{aligned} $$\n",
        "\n",
        "\\eqref{eq:MW}\n",
        "\n",
        "\n",
        "where $\\mathbf{D}=\\varepsilon\\mathbf{E}$ and $\\mathbf{H}=\\frac{\\mathbf{B}}{\\mu}$, $\\mathbf{B}$ is the magnetic field, $\\rho$ is the electric charge density, $\\mathbf{J}$ is the electric current density, $\\varepsilon_0$ is the permittivity of free space, and $\\mu_0$ is the permeability of free space.\n",
        "\n",
        "***\n",
        "###Assumptions $$\\label{eq:assumptions}$$: \n",
        "\n",
        "Start with the following simplifying assumptions on the materials:\n",
        "\n",
        "* Isotropic: The material properties (such as permittivity and permeability) are independent of the direction of the electric field or magnetic field and as such as scalar values\n",
        "\n",
        "* Linear: The material properties (such as permittivity and permeability) are proportional to the strength of the electric field or magnetic field, so that for two solutions indexed by 1 and 2,\n",
        "$$ \\begin{aligned} \\mathbf{D}=\\epsilon \\mathbf{E}, \\mathbf{H}=\\frac{1}{\\mu}\\mathbf{B} $$\n",
        "\n",
        "* Nondispersive: The material properties (such as permittivity and permeability) are independent of frequency, i.e.:\n",
        "$$ \\begin{aligned} \\varepsilon(\\mathbf{r},\\omega) &= \\varepsilon(\\mathbf{r}) \\\\ \\mu(\\mathbf{r},\\omega) &= \\mu(\\mathbf{r}) \\end{aligned} $$\n",
        "\n",
        "* Nonmagnetic: The material has a magnetic permeability of $\\mu=\\mu_0$, which is the permeability of free space. This means that the material is not magnetically active and does not produce its own magnetic field.\n",
        "\n",
        "* No free moving charges: $\\mathbf{J}=0$. \n",
        "\n",
        "***\n",
        "\n",
        "\n",
        "\n",
        "$$ \\begin{aligned} \\nabla\\times \\mathbf{E(r)}&=-j\\omega\\mu_0 \\mathbf{H(r)} \\ \\nabla\\times \\mathbf{H(r)}&=j\\omega\\varepsilon(r) \\mathbf{E(r)} \\ \\nabla\\cdot(\\varepsilon(\\mathbf{r})\\mathbf{E(r)})&=0 \\ \\nabla\\cdot \\mathbf{H(r)}&=0, \\end{aligned} $$\n",
        "\n",
        "\n",
        "If it's time-invarient we can moreover approach the problem by decomposing any optical field into a superposition of Fourier components -- i.e., of monochromatic fields. Let's consider one such field at frequency $\\omega$. \n",
        "harmonic time dependence $e^{j\\omega t}$\n",
        "absence of sources and currents\n",
        "We have also defined:\n",
        "\n",
        "$$ \\begin{aligned} \\mathbf{D}&=\\varepsilon\\mathbf{E}=\\varepsilon_0n^2\\mathbf{E} \\\\ \\mathbf{B}&=\\mu_0\\mathbf{H}. \\end{aligned} $$\n",
        "\n",
        "The boundary conditions for an interface between two dielectrics with $\\varepsilon_1$ and $\\varepsilon_2$ (where $\\mathbf{n_v}$ represents the normal vector) are given by:\n",
        "\n",
        "$$ \\begin{aligned} \\mathbf{n_v}\\times(\\mathbf{E}_1-\\mathbf{E}_2)&=0 \\\\ \\mathbf{n_v}\\times(\\mathbf{H}_1-\\mathbf{H}_2)&=0 \\\\ \\mathbf{n_v}\\cdot(\\varepsilon_1\\mathbf{E}_1-\\varepsilon_2\\mathbf{E}_2)&=0 \\\\ \\mathbf{n_v}\\cdot(\\mathbf{H}_1-\\mathbf{H}_2)&=0. \\end{aligned} $$\n",
        "\n",
        "To continue, we can consider the special case of a dielectric waveguide, where the electric field is confined to a narrow region in space, known as the waveguide core. The surrounding region, known as the cladding, has a lower refractive index than the core. The boundary conditions for the waveguide then become:\n",
        "\n",
        "$$ \\begin{aligned} \\mathbf{n_v}\\times(\\mathbf{E}_\\text{core}-\\mathbf{E}_\\text{cladding})&=0 \\\\ \\mathbf{n_v}\\times(\\mathbf{H}_\\text{core}-\\mathbf{H}_\\text{cladding})&=0 \\\\ \\mathbf{n_v}\\cdot(\\varepsilon_\\text{core}\\mathbf{E}_\\text{core}-\\varepsilon_\\text{cladding}\\mathbf{E}_\\text{cladding})&=0 \\\\ \\mathbf{n_v}\\cdot(\\mathbf{H}_\\text{core}-\\mathbf{H}_\\text{cladding})&=0. \\end{aligned} $$\n",
        "\n",
        "These boundary conditions allow us to find the allowed modes of the waveguide, which are the solutions to the wave equation that satisfy the boundary conditions. These modes determine the properties of the waveguide, such as its guiding properties and the attenuation of the guided waves."
      ]
    },
    {
      "cell_type": "markdown",
      "metadata": {
        "id": "uqBynXD-LLK2"
      },
      "source": [
        "### 1.1. Longitudinally invariant waveguides\n",
        "Let's apply now the periodic boundary condition. Then, an eigenmode propagating in the positive $z$ direction can be represented by $\\mathbf{E(r)}=\\mathbf{E_0}(x,y)e^{-j\\beta z}$ and $\\mathbf{H(r)}=\\mathbf{H_0}(x,y)e^{-j\\beta z}$, where $\\beta$ is the propagation constant of the eigenmode. The effective mode index is defined as $\\text{n}_\\text{eff}=\\beta/k_0$, which is related to the effective dielectric constant $\\varepsilon_{\\text{eff}}=\\text{n}_\\text{eff}^2$. The values of $\\text{n}_\\text{eff}$ are bounded by the minimum and maximum refractive indices of the waveguide material. All electromagnetic field distributions within the waveguide geometry can be described by a combination of these eigenmodes."
      ]
    },
    {
      "cell_type": "markdown",
      "metadata": {
        "id": "WbNyOYeZLLK3"
      },
      "source": [
        "### 1.2. The 3-layer slab waveguide\n",
        "Eigenmodes in common rectangular waveguides can be approximated by analytically solving for modes in structures that are invariant along both the propagation direction and one of the perpendicular directions. These structures are called slab waveguides. The electric and magnetic fields of the eigenmodes in a slab waveguide can be represented by $\\mathbf{E(r)}=\\mathbf{E_0}(x)e^{-j\\beta z}$ and $\\mathbf{H(r)}=\\mathbf{H_0}(x)e^{-j\\beta z}$, respectively. Substituting these equations into Maxwell's curl equations leads to a system of six equations. This system can be split into two sets of three equations, defining transverse electric (TE) modes, in which there is no electric field in the propagation direction, and transverse magnetic (TM) modes, in which there is no magnetic field in the propagation direction. These modes can be described by the Helmholtz equation. Assuming piecewise constant refractive index allows the decoupling of the three components of the field vectors, leading to an eigenvalue equation. The general solution to this equation is a plane wave with wavevector $k_x=\\sqrt{k_0^2\\text{n}_\\text{i}^2-\\beta^2}$, where $\\text{n}_\\text{i}$ is the refractive index of the waveguide material.\n",
        "\n",
        "\n",
        "\n"
      ]
    },
    {
      "cell_type": "markdown",
      "source": [
        "<button onclick=\"toggleVisibility('expandable-content')\">Click to expand for detail</button>\n",
        "\n",
        "<script>\n",
        "  function toggleVisibility(elementId) {\n",
        "    var element = document.getElementById(elementId);\n",
        "    if (element.style.display === \"none\") {\n",
        "      element.style.display = \"block\";\n",
        "    } else {\n",
        "      element.style.display = \"none\";\n",
        "    }\n",
        "  }\n",
        "</script>\n",
        "\n",
        "\n",
        "<div id=\"expandable-content\" style=\"display: none;\">\n",
        "The electric and magnetic fields of the eigenmodes in a slab waveguide can be represented by $\\mathbf{E(r)}=\\mathbf{E_0}(x)e^{-j\\beta z}$ and $\\mathbf{H(r)}=\\mathbf{H_0}(x)e^{-j\\beta z}$, respectively. Substituting these equations into Maxwell's curl equations leads to a system of six equations that can be split into two sets, defining transverse electric (TE) modes and transverse magnetic (TM) modes. These modes can be described by the Helmholtz equation:\n",
        "\n",
        "$$\n",
        "\\begin{align*}\n",
        "& \\frac{d^2E_0(x)}{dx^2}+k_0^2\\text{n}\\text{i}^2E_0(x)=\\beta^2E_0(x) \\\n",
        "&\\frac{d^2H_0(x)}{dx^2}+k_0^2\\text{n}\\text{i}^2H_0(x)=\\beta^2H_0(x).\n",
        "\\end{align*}\n",
        "$$\n",
        "\n",
        "This is an eigenvalue equation, with general solution\n",
        "\n",
        "$$\n",
        "E_0(x)=A_ie^{jk_x(x-a_i)}+B_ie^{-jk_x(x-a_i)},\n",
        "$$\n",
        "\n",
        "where\n",
        "$$\n",
        "k_x=\\sqrt{k_0^2\\text{n}_\\text{i}^2-\\beta^2},\n",
        "$$\n",
        "\n",
        "and $a_i$ defines the position on the x-axis of the wave, which we set to the top interface (with the exception of the topmost film, in which $a_N=a_{N-1}$). This solution represents a plane wave, with wavevector $k_x$.\n",
        "\n",
        "It is worth noting that although slab waveguides are not commonly used in photonic devices, they are often employed in simulation software, as they provide valuable insight into waveguide modes and can be solved analytically. Additionally, we should mention that while we have assumed piecewise constant refractive index, this assumption can be relaxed to allow for more general waveguides with smoothly varying refractive index. However, solving for the eigenmodes in these cases usually requires numerical methods.\n",
        "</div>"
      ],
      "metadata": {
        "id": "3A9W2-fU7DaJ"
      }
    },
    {
      "cell_type": "markdown",
      "source": [
        "Problem 0: "
      ],
      "metadata": {
        "id": "dxomKOAe7OSe"
      }
    },
    {
      "cell_type": "code",
      "source": [
        "from IPython.display import display, HTML\n",
        "button_template = '<button class=\"btn btn-primary mr-2\" onclick=\"display_result({}, \\'{}\\')\">{}) {}</button>'\n",
        "\n",
        "questions = ['Which of the following modes propagates in a dielectric waveguide with a square cross-section and symetrically cladded?', 'What is the relationship between the refractive indices of the core and cladding in a step-index fiber?', 'What is the purpose of the cladding layer in an optical fiber?', 'How do TE modes and TM modes differ in their electric field distribution?']\n",
        "answers = [['TE modes', 'TM modes', 'Both TE and TM modes', 'Neither TE nor TM modes'], ['The refractive index of the core is greater than the refractive index of the cladding.', 'The refractive index of the core is equal to the refractive index of the cladding.', 'The refractive index of the core is less than the refractive index of the cladding.', 'There is no relationship between the refractive indices of the core and cladding.'], ['The cladding layer is used to transmit the light signal through the fiber.', 'The cladding layer is used to protect the fiber from damage.', 'The cladding layer is used to focus the light onto the fiber.', 'The cladding layer is used to reflect light back into the core.'], ['TE modes have an electric field that is perpendicular to the direction of propagation, while TM modes have an electric field that is parallel to the direction of propagation.', 'TE modes have an electric field completely transverse to the direction of propagation, with a non-zero transverse magnetic field. TM modes have a magnetic field completely transverse to the direction of propagation, with a non-zero transverse electric field.', 'TE modes and TM modes have the same electric field distribution.', 'There is no difference in the electric field distribution of TE modes and TM modes.']]\n",
        "correct = ['C', 'A', 'D', 'B']\n",
        "\n",
        "for i in range(len(questions)):\n",
        "  display(HTML('<b>Question {}:</b>'.format(i+1)))\n",
        "  display(HTML(questions[i]))\n",
        "  for j in range(len(answers[i])):\n",
        "    button = button_template.format(i+1, chr(65+j), chr(65+j), answers[i][j])\n",
        "    display(HTML(button))\n",
        "  while True:\n",
        "    answer = input(f'Enter the answer for question {i+1}: ')\n",
        "    if answer in [chr(65+k) for k in range(len(answers[i]))]:\n",
        "      quiz_answers.append(answer)\n",
        "      break\n",
        "    else:\n",
        "      print(f'Invalid answer. Please enter a valid answer ({[chr(65+k) for k in range(len(answers[i]))]}).')\n",
        "\n",
        "\n",
        "def test_quiz_answers(quiz_answers):\n",
        "  correct_answers = 0\n",
        "  incorrect_answers = 0\n",
        "  \n",
        "  for i in range(len(questions)):\n",
        "    if quiz_answers[i] == correct[i]:\n",
        "      correct_answers += 1\n",
        "    else:\n",
        "      incorrect_answers += 1\n",
        "      \n",
        "  print(f'Number of correct answers: {correct_answers}')\n",
        "  print(f'Number of incorrect answers: {incorrect_answers}')\n",
        "\n",
        "\n",
        "# Test quiz answers\n",
        "test_quiz_answers(quiz_answers)\n"
      ],
      "metadata": {
        "colab": {
          "base_uri": "https://localhost:8080/",
          "height": 607
        },
        "id": "OTgRjjcpLAek",
        "outputId": "00e0e5ac-7f1c-4a06-8a99-6640c632315c"
      },
      "execution_count": null,
      "outputs": [
        {
          "output_type": "display_data",
          "data": {
            "text/plain": [
              "<IPython.core.display.HTML object>"
            ],
            "text/html": [
              "<b>Question 1:</b>"
            ]
          },
          "metadata": {}
        },
        {
          "output_type": "display_data",
          "data": {
            "text/plain": [
              "<IPython.core.display.HTML object>"
            ],
            "text/html": [
              "Which of the following modes propagates in a dielectric waveguide with a rectangular cross-section?"
            ]
          },
          "metadata": {}
        },
        {
          "output_type": "display_data",
          "data": {
            "text/plain": [
              "<IPython.core.display.HTML object>"
            ],
            "text/html": [
              "<button class=\"btn btn-primary mr-2\" onclick=\"display_result(1, 'A')\">A) TE modes</button>"
            ]
          },
          "metadata": {}
        },
        {
          "output_type": "display_data",
          "data": {
            "text/plain": [
              "<IPython.core.display.HTML object>"
            ],
            "text/html": [
              "<button class=\"btn btn-primary mr-2\" onclick=\"display_result(1, 'B')\">B) TM modes</button>"
            ]
          },
          "metadata": {}
        },
        {
          "output_type": "display_data",
          "data": {
            "text/plain": [
              "<IPython.core.display.HTML object>"
            ],
            "text/html": [
              "<button class=\"btn btn-primary mr-2\" onclick=\"display_result(1, 'C')\">C) Both TE and TM modes</button>"
            ]
          },
          "metadata": {}
        },
        {
          "output_type": "display_data",
          "data": {
            "text/plain": [
              "<IPython.core.display.HTML object>"
            ],
            "text/html": [
              "<button class=\"btn btn-primary mr-2\" onclick=\"display_result(1, 'D')\">D) Neither TE nor TM modes</button>"
            ]
          },
          "metadata": {}
        },
        {
          "name": "stdout",
          "output_type": "stream",
          "text": [
            "Enter the answer for question 1: C\n"
          ]
        },
        {
          "output_type": "display_data",
          "data": {
            "text/plain": [
              "<IPython.core.display.HTML object>"
            ],
            "text/html": [
              "<b>Question 2:</b>"
            ]
          },
          "metadata": {}
        },
        {
          "output_type": "display_data",
          "data": {
            "text/plain": [
              "<IPython.core.display.HTML object>"
            ],
            "text/html": [
              "What is the relationship between the refractive indices of the core and cladding in a step-index fiber?"
            ]
          },
          "metadata": {}
        },
        {
          "output_type": "display_data",
          "data": {
            "text/plain": [
              "<IPython.core.display.HTML object>"
            ],
            "text/html": [
              "<button class=\"btn btn-primary mr-2\" onclick=\"display_result(2, 'A')\">A) The refractive index of the core is greater than the refractive index of the cladding.</button>"
            ]
          },
          "metadata": {}
        },
        {
          "output_type": "display_data",
          "data": {
            "text/plain": [
              "<IPython.core.display.HTML object>"
            ],
            "text/html": [
              "<button class=\"btn btn-primary mr-2\" onclick=\"display_result(2, 'B')\">B) The refractive index of the core is equal to the refractive index of the cladding.</button>"
            ]
          },
          "metadata": {}
        },
        {
          "output_type": "display_data",
          "data": {
            "text/plain": [
              "<IPython.core.display.HTML object>"
            ],
            "text/html": [
              "<button class=\"btn btn-primary mr-2\" onclick=\"display_result(2, 'C')\">C) The refractive index of the core is less than the refractive index of the cladding.</button>"
            ]
          },
          "metadata": {}
        },
        {
          "output_type": "display_data",
          "data": {
            "text/plain": [
              "<IPython.core.display.HTML object>"
            ],
            "text/html": [
              "<button class=\"btn btn-primary mr-2\" onclick=\"display_result(2, 'D')\">D) There is no relationship between the refractive indices of the core and cladding.</button>"
            ]
          },
          "metadata": {}
        },
        {
          "name": "stdout",
          "output_type": "stream",
          "text": [
            "Enter the answer for question 2: A\n"
          ]
        },
        {
          "output_type": "display_data",
          "data": {
            "text/plain": [
              "<IPython.core.display.HTML object>"
            ],
            "text/html": [
              "<b>Question 3:</b>"
            ]
          },
          "metadata": {}
        },
        {
          "output_type": "display_data",
          "data": {
            "text/plain": [
              "<IPython.core.display.HTML object>"
            ],
            "text/html": [
              "What is the purpose of the cladding layer in an optical fiber?"
            ]
          },
          "metadata": {}
        },
        {
          "output_type": "display_data",
          "data": {
            "text/plain": [
              "<IPython.core.display.HTML object>"
            ],
            "text/html": [
              "<button class=\"btn btn-primary mr-2\" onclick=\"display_result(3, 'A')\">A) The cladding layer is used to transmit the light signal through the fiber.</button>"
            ]
          },
          "metadata": {}
        },
        {
          "output_type": "display_data",
          "data": {
            "text/plain": [
              "<IPython.core.display.HTML object>"
            ],
            "text/html": [
              "<button class=\"btn btn-primary mr-2\" onclick=\"display_result(3, 'B')\">B) The cladding layer is used to protect the fiber from damage.</button>"
            ]
          },
          "metadata": {}
        },
        {
          "output_type": "display_data",
          "data": {
            "text/plain": [
              "<IPython.core.display.HTML object>"
            ],
            "text/html": [
              "<button class=\"btn btn-primary mr-2\" onclick=\"display_result(3, 'C')\">C) The cladding layer is used to focus the light onto the fiber.</button>"
            ]
          },
          "metadata": {}
        },
        {
          "output_type": "display_data",
          "data": {
            "text/plain": [
              "<IPython.core.display.HTML object>"
            ],
            "text/html": [
              "<button class=\"btn btn-primary mr-2\" onclick=\"display_result(3, 'D')\">D) The cladding layer is used to reflect light back into the core.</button>"
            ]
          },
          "metadata": {}
        },
        {
          "name": "stdout",
          "output_type": "stream",
          "text": [
            "Enter the answer for question 3: B\n"
          ]
        },
        {
          "output_type": "display_data",
          "data": {
            "text/plain": [
              "<IPython.core.display.HTML object>"
            ],
            "text/html": [
              "<b>Question 4:</b>"
            ]
          },
          "metadata": {}
        },
        {
          "output_type": "display_data",
          "data": {
            "text/plain": [
              "<IPython.core.display.HTML object>"
            ],
            "text/html": [
              "How do TE modes and TM modes differ in their electric field distribution?"
            ]
          },
          "metadata": {}
        },
        {
          "output_type": "display_data",
          "data": {
            "text/plain": [
              "<IPython.core.display.HTML object>"
            ],
            "text/html": [
              "<button class=\"btn btn-primary mr-2\" onclick=\"display_result(4, 'A')\">A) TE modes have an electric field that is perpendicular to the direction of propagation, while TM modes have an electric field that is parallel to the direction of propagation.</button>"
            ]
          },
          "metadata": {}
        },
        {
          "output_type": "display_data",
          "data": {
            "text/plain": [
              "<IPython.core.display.HTML object>"
            ],
            "text/html": [
              "<button class=\"btn btn-primary mr-2\" onclick=\"display_result(4, 'B')\">B) TE modes have an electric field that is parallel to the direction of propagation, while TM modes have an electric field that is perpendicular to the direction of propagation.</button>"
            ]
          },
          "metadata": {}
        },
        {
          "output_type": "display_data",
          "data": {
            "text/plain": [
              "<IPython.core.display.HTML object>"
            ],
            "text/html": [
              "<button class=\"btn btn-primary mr-2\" onclick=\"display_result(4, 'C')\">C) TE modes and TM modes have the same electric field distribution.</button>"
            ]
          },
          "metadata": {}
        },
        {
          "output_type": "display_data",
          "data": {
            "text/plain": [
              "<IPython.core.display.HTML object>"
            ],
            "text/html": [
              "<button class=\"btn btn-primary mr-2\" onclick=\"display_result(4, 'D')\">D) There is no difference in the electric field distribution of TE modes and TM modes.</button>"
            ]
          },
          "metadata": {}
        },
        {
          "output_type": "stream",
          "name": "stdout",
          "text": [
            "Enter the answer for question 4: A\n",
            "Number of correct answers: 1\n",
            "Number of incorrect answers: 3\n"
          ]
        }
      ]
    },
    {
      "cell_type": "markdown",
      "metadata": {
        "id": "h2NcxoJDLLK4"
      },
      "source": [
        "### Problem 1: TM modes in a slab waveguide \n",
        "\n",
        "Note: This problem is built on an earlier homework exercise by Dr Carlos Errando Herranz.\n",
        "\n",
        "The following code solves for the fields in a slab waveguide for TE and TM modes, given the refractive indexes of the core and claddings, the wavelength,  the slab thickness $h$, width $w$, and a pulse length of $L_z= c/n_{\\text{eff}} * 1/\\Omega $ where $\\Omega$ is the pulse bandwidth. \n",
        "\n",
        "You can double-check your solutions (propagation constants, effective mode indices, and shape of the E and H fields) are correct using the online solver https://www.computational-photonics.eu/oms.html. Note that the field normalization in this online solver might be different than yours."
      ]
    },
    {
      "cell_type": "code",
      "execution_count": null,
      "metadata": {
        "id": "Wzy12RDQLLK4"
      },
      "outputs": [],
      "source": [
        "import numpy as np\n",
        "from numpy.lib import scimath as sm\n",
        "import matplotlib.pyplot as plt\n",
        "from ipywidgets import interactive\n",
        "from scipy.signal import find_peaks\n",
        "import scipy.constants as sciconst"
      ]
    },
    {
      "cell_type": "code",
      "execution_count": null,
      "metadata": {
        "id": "Jrp9zRwXLLK5",
        "colab": {
          "base_uri": "https://localhost:8080/",
          "height": 409
        },
        "outputId": "9db4090b-d537-4d84-cabd-2e40abbc71c5"
      },
      "outputs": [
        {
          "output_type": "stream",
          "name": "stdout",
          "text": [
            "Number of modes = 2\n"
          ]
        },
        {
          "output_type": "display_data",
          "data": {
            "text/plain": [
              "<Figure size 1080x360 with 3 Axes>"
            ],
            "image/png": "[encoded data removed]"
          },
          "metadata": {
            "needs_background": "light"
          }
        },
        {
          "output_type": "stream",
          "name": "stdout",
          "text": [
            "Neffs = [1.003003   1.53353353]\n"
          ]
        },
        {
          "output_type": "execute_result",
          "data": {
            "text/plain": [
              "array([1.003003  , 1.53353353])"
            ]
          },
          "metadata": {},
          "execution_count": 85
        }
      ],
      "source": [
        "plottest=False # This lets you plot the graph showing the numerical solutions to the transcendental equations\n",
        "def slab(nc, ncladtop, ncladbot, wavel, d, pol='TM', plot=True, printit=True): \n",
        "    # Wavelength and thickness inputs are in um\n",
        "    wavel=wavel*1e-6\n",
        "    d=d*1e-6\n",
        "    k0=2*np.pi/wavel\n",
        "    omega=k0*sciconst.c\n",
        "    beta=np.linspace(min(nc,ncladtop,ncladbot),max(nc,ncladtop,ncladbot),num=1000)*2*np.pi/wavel\n",
        "    \n",
        "    delta=sm.sqrt(beta**2-ncladbot**2*k0**2)\n",
        "    kappa=sm.sqrt(nc**2*k0**2-beta**2)\n",
        "    gamma=sm.sqrt(beta**2-ncladtop**2*k0**2)\n",
        "    \n",
        "    # Numerically solve for the transcendental equation\n",
        "    left=np.tan(kappa*d)\n",
        "    if pol=='TE':\n",
        "        right=kappa*(gamma+delta)/(kappa**2-gamma*delta)\n",
        "    elif pol=='TM':\n",
        "        right=kappa*(gamma*nc**2/ncladtop**2+delta*nc**2/ncladbot**2)/(kappa**2-gamma*nc**2/ncladtop**2*delta*nc**2/ncladbot**2)\n",
        "    fun=-abs(left-right)\n",
        "    peaks=find_peaks(fun)\n",
        "    \n",
        "    # This lets you plot the transcendental equation\n",
        "    if plottest==True:\n",
        "        plt.figure(1)\n",
        "        plt.plot(beta*wavel/np.pi/2,left, beta*wavel/np.pi/2, right)\n",
        "        plt.ylim(-10, 10)\n",
        "        plt.xlabel('Effective index')\n",
        "        plt.figure(2)\n",
        "        plt.plot(beta*wavel/np.pi/2,fun)\n",
        "        plt.xlabel('Effective index')\n",
        "        plt.ylim(-1, 0)\n",
        "    \n",
        "    # Calculate betaeff and neff\n",
        "    betas=beta[peaks[0][:]]\n",
        "    neffs=beta[peaks[0][:]]*wavel/2/np.pi\n",
        "    \n",
        "    # Number of modes\n",
        "    M=len(neffs)\n",
        "    if printit:\n",
        "        print('Number of modes = '+ str(M))\n",
        "    \n",
        "    # Calculate and plot electric field\n",
        "    if plot==True:\n",
        "        x1=np.linspace(0,2*d,num=100)\n",
        "        x2=np.linspace(-d,0,num=100)\n",
        "        x3=np.linspace(-3*d,-d,num=100)\n",
        "        B=1\n",
        "        fig, axs = plt.subplots(1,3,figsize=(15,15/3))\n",
        "        for b in betas:\n",
        "            deltab=np.sqrt(b**2-ncladbot**2*k0**2)\n",
        "            kappab=np.sqrt(nc**2*k0**2-b**2)\n",
        "            gammab=np.sqrt(b**2-ncladtop**2*k0**2)\n",
        "            if pol=='TE':\n",
        "                A=-B*kappab/deltab\n",
        "            elif pol=='TM':\n",
        "                A=-B*kappab*ncladbot**2/nc**2/deltab\n",
        "            ey1=A*np.exp(-deltab*x1)\n",
        "            ey2=A*np.cos(kappab*x2)+B*np.sin(kappab*x2)\n",
        "            ey3=(A*np.cos(kappab*d)-B*np.sin(kappab*d))*np.exp(gammab*(x3+d))\n",
        "            hx1=-b*ey1/omega/sciconst.mu_0\n",
        "            hx2=-b*ey2/omega/sciconst.mu_0\n",
        "            hx3=-b*ey3/omega/sciconst.mu_0\n",
        "            hz1=-(-1/1j/omega/sciconst.mu_0)*deltab*A*np.exp(-deltab*x1)\n",
        "            hz2=(-1/1j/omega/sciconst.mu_0)*(-A*kappab*np.sin(kappab*x2)+B*kappab*np.cos(kappab*x2))\n",
        "            hz3=(-1/1j/omega/sciconst.mu_0)*gammab*(A*np.cos(kappab*d)-B*np.sin(kappab*d))*np.exp(gammab*(x3+d))\n",
        "            if pol=='TE':\n",
        "                axs[0].plot(x1*1e6, ey1, x2*1e6, ey2, x3*1e6, ey3)\n",
        "                axs[0].set_title('$E_y$')\n",
        "                axs[1].plot(x1*1e6, hx1, x2*1e6, hx2, x3*1e6, hx3)\n",
        "                axs[1].set_title(\"Hx\")\n",
        "                axs[2].plot(x1*1e6, np.real(1j*hz1), x2*1e6, np.real(1j*hz2), x3*1e6, np.real(1j*hz3)) #shifted by pi\n",
        "                axs[2].set_title(\"Hz\")\n",
        "            elif pol=='TM':\n",
        "                hy1=ey1\n",
        "                hy2=ey2\n",
        "                hy3=ey3\n",
        "                ex1=-hy1*b/sciconst.epsilon_0/ncladbot**2/omega\n",
        "                ex2=-hy2*b/sciconst.epsilon_0/nc**2/omega\n",
        "                ex3=-hy3*b/sciconst.epsilon_0/ncladtop**2/omega\n",
        "                ez1=-hz1*sciconst.mu_0/sciconst.epsilon_0/ncladbot**2\n",
        "                ez2=-hz2*sciconst.mu_0/sciconst.epsilon_0/nc**2\n",
        "                ez3=-hz3*sciconst.mu_0/sciconst.epsilon_0/ncladtop**2\n",
        "                axs[0].plot(x1*1e6, ex1, x2*1e6, ex2, x3*1e6, ex3)\n",
        "                axs[0].set_title('$E_x$')\n",
        "                axs[1].plot(x1*1e6, hy1, x2*1e6, hy2, x3*1e6, hy3)\n",
        "                axs[1].set_title('$E_y$')\n",
        "                axs[2].plot(x1*1e6, np.real(1j*ez1), x2*1e6, np.real(1j*ez2), x3*1e6, np.real(1j*ez3)) #shifted by pi\n",
        "                axs[2].set_title('$E_z$')\n",
        "\n",
        "        axs[0].set(ylabel='Electric field in units of $\\sqrt{\\hbar \\pi  \\Omega n_{\\text{eff}}/(w h \\lambda) }$')\n",
        "        for ax in axs.flat:\n",
        "            ax.set(xlabel='Distance in x ($\\mu$m)')\n",
        "\n",
        "                # Add box from x=-d to x=d\n",
        "        plt.axvspan(-d*1e6, 0, alpha=0.5, color='lightgrey')\n",
        "        plt.show()\n",
        "    if printit:\n",
        "        print('Neffs = '+ str(neffs))\n",
        "    return neffs\n",
        "\n",
        "slab(2,1,1,1.55,0.5, pol='TM', plot=True)"
      ]
    },
    {
      "cell_type": "code",
      "execution_count": null,
      "metadata": {
        "id": "LT5HDjQaLLK6",
        "colab": {
          "base_uri": "https://localhost:8080/",
          "height": 647,
          "referenced_widgets": [
            "3f300106ec3d42e9a452fc44524f0ac7",
            "ca542e8a5dbc4baab3bd06b539d15d44",
            "0788d10ae00e49cc9737dbb2622a7c13",
            "ce4a72783ac34fb2a7c6a9f9cc86884d",
            "2ddb17529148417f95e62b4edc02f86e",
            "1a830aa8ab7e4e7bbe2e6f9209359781",
            "181262144d504b6ca3902dcdd8668512",
            "abc0befe7cb444379db42271a01e76c7",
            "1915d8d586b042cebd547e50e764d46c",
            "f3613c4c7854482f88e0d9e97fde9898",
            "e830ca81727b4131815431559eb51be0",
            "537693fe88214f4fb4d0038b3c618d5b",
            "ce79952b0f744b808c2ca0f5ddaff4b7",
            "08c91a81762847b3848837b27d8def7d",
            "1e807281e5cf4882b6bd987ba58504e2",
            "f08b3af771204e1db24322af807479fd",
            "098390af5027479cb3dcce31b60950e0",
            "5c92a3f4338c4eb4b4c38a0659021254",
            "b1f400da76b243ce960c8da5e28a39b9",
            "e08ee7bfab4847ffb3499df3ccca675c",
            "1a772e3065a84fae997e99679a07e41f",
            "28089f8dcc7e4b639da174b3f0f4c5e3",
            "18d9e9ba39ba4cf882b9400b709d91b2",
            "bd34ccaa921c408383cd051f27ecb208",
            "ad0bfe9bef6442ea8eabc8573284450e",
            "c23e1a32caa3433497a90b0fa24a00f5",
            "cea6425e7e574f74a64becc4d8c8dbe7",
            "9af856d8a99046d58383c3b2c1d13ca1"
          ]
        },
        "outputId": "d30138c7-3b9c-495c-a430-580dd8afa661"
      },
      "outputs": [
        {
          "output_type": "display_data",
          "data": {
            "text/plain": [
              "interactive(children=(FloatSlider(value=2.0, description='nc', max=4.0, min=1.0), FloatSlider(value=1.0, descr…"
            ],
            "application/vnd.jupyter.widget-view+json": {
              "version_major": 2,
              "version_minor": 0,
              "model_id": "3f300106ec3d42e9a452fc44524f0ac7"
            }
          },
          "metadata": {}
        }
      ],
      "source": [
        "interactive(slab, nc=(1,4,0.1), ncladtop=(1,2,0.1), ncladbot=(1,2,0.1), wavel=(0.6,2,0.2), d=(0,2,0.1))"
      ]
    },
    {
      "cell_type": "code",
      "source": [],
      "metadata": {
        "id": "lpcto8eY-q_A"
      },
      "execution_count": null,
      "outputs": []
    },
    {
      "cell_type": "markdown",
      "source": [
        "Examples: \n",
        "* Spectrally separable photon-pair generation in dispersion engineered thin-film lithium niobate \n",
        " [link text](https://opg.optica.org/view_article.cfm?gotourl=%2FDirectPDFAccess%2F107CE2E4%2D774F%2D4BE4%2D823C40AE3AD25D23%5F473228%2Fol%2D47%2D11%2D2830%2Epdf%3Fda%3D1%26id%3D473228%26seq%3D0%26mobile%3Dno&org=Massachusetts%20Institute%20of%20Technology%20Libraries)\n",
        "\n"
      ],
      "metadata": {
        "id": "YA01c9I3Ahsn"
      }
    },
    {
      "cell_type": "markdown",
      "metadata": {
        "id": "51Wncy5OLLK6"
      },
      "source": [
        "### Problem 2: Designing a single mode waveguide\n",
        "\n",
        "Using the code above, design your waveguide for single mode operation by:\n",
        "1. Choosing a material platform: (real) refractive index of waveguide core and claddings (e.g. use https://refractiveindex.info/)\n",
        "2. Plot the effective indexes of all your calculated modes vs. slab height. Make sure you have a sufficiently large slab height range (from near-zero to microns should suffice). Use this plot to choose a slab height for which your waveguide is single mode (i.e. only a TE and a TM modes)\n",
        "3. Using your single mode slab height, investigate the effective indexes of your modes vs. wavelength. What is the shortest wavelength at which your waveguide can operate before running into multi-mode operation?"
      ]
    },
    {
      "cell_type": "code",
      "source": [
        "# Solutions to Problem 2\n",
        "def problem22(nc=3.48, ncladtop=1.5, ncladbot=1.5, wavel=1.55, mind=0.1, maxd=1, pol='TE'):\n",
        "    plt.figure(1)\n",
        "    ds=np.linspace(mind,maxd,100)\n",
        "    for n in ds:\n",
        "        neffs=slab(nc, ncladtop, ncladbot, wavel, n, pol='TE',plot=False, printit=False)\n",
        "        plt.plot(np.tile(n,len(neffs)), neffs, 'b.')\n",
        "    plt.title('P2.2: mode indexes vs. slab height')\n",
        "    plt.ylabel('Effective mode index')\n",
        "    plt.xlabel('Slab height ($\\mu$m)')\n",
        "    plt.show()\n",
        "    return\n",
        "problem22()\n",
        "\n",
        "def problem23(nc=3.48, ncladtop=1.5, ncladbot=1.5, wavel=1.55, d=0.2, Deltawavel=1, pol='TE'):\n",
        "    plt.figure(1)\n",
        "    wavels=np.linspace(wavel-Deltawavel,wavel+Deltawavel,100)\n",
        "    for n in wavels:\n",
        "        neffs=slab(nc, ncladtop, ncladbot, n, d, pol='TE',plot=False, printit=False)\n",
        "        plt.plot(np.tile(n,len(neffs)), neffs, 'b.')\n",
        "    plt.title('P2.3: mode indexes vs. wavelength')\n",
        "    plt.ylabel('Effective mode index')\n",
        "    plt.xlabel('Wavelength ($\\mu$m)')\n",
        "    plt.show()\n",
        "    return\n",
        "problem23()"
      ],
      "metadata": {
        "colab": {
          "base_uri": "https://localhost:8080/",
          "height": 581
        },
        "id": "jMLJP1qzgzyp",
        "outputId": "aaf45152-1b9c-4404-fc2e-dfbcd5943402"
      },
      "execution_count": null,
      "outputs": [
        {
          "output_type": "display_data",
          "data": {
            "text/plain": [
              "<Figure size 432x288 with 1 Axes>"
            ],
            "image/png": "[encoded data removed]"
          },
          "metadata": {
            "needs_background": "light"
          }
        },
        {
          "output_type": "display_data",
          "data": {
            "text/plain": [
              "<Figure size 432x288 with 1 Axes>"
            ],
            "image/png": "[encoded data removed]"
          },
          "metadata": {
            "needs_background": "light"
          }
        }
      ]
    },
    {
      "cell_type": "code",
      "source": [
        "# Solutions to Problem 3\n",
        "def problem31(nc=3.48, ncladtop=1.5, ncladbot=1.5, wavel=1.55, d=0.2, pol='TE', Deltad=0.02, L=10):\n",
        "    ds=np.linspace(d-Deltad,d+Deltad,10)\n",
        "    neff0=slab(nc, ncladtop, ncladbot, wavel, d, pol ,plot=False, printit=False)\n",
        "    plt.figure(1)\n",
        "    for dt in ds:\n",
        "        neff1=slab(nc, ncladtop, ncladbot, wavel, dt, pol ,plot=False, printit=False)\n",
        "        Deltaphi=2*L*(max(neff1)-neff0)/wavel # From the text above, just divided by pi to plot in units of pi\n",
        "        plt.plot(dt,Deltaphi,'b.')\n",
        "    plt.title('P3.1: phase shift vs. slab height')\n",
        "    plt.ylabel('Phase shift ($\\pi$)')\n",
        "    plt.xlabel('Slab height (um)')\n",
        "    plt.show()\n",
        "    return\n",
        "problem31()\n",
        "\n",
        "def problem32(nc=3.48, ncladtop=1.5, ncladbot=1.5, wavel=1.55, Dwavel=0.2, d=0.2, pol='TE', Deltad=0.01, L=10):\n",
        "    # Here I am plotting with a Deltad of 10 nm to make it easier to visualize for my choice of ref indexes. \n",
        "    # Note also that there's a (likely numerical) bug in the slab function, which I evade by making neff 0 when empty\n",
        "    ds=np.linspace(d-Deltad,d+Deltad,5)\n",
        "    wavels=np.linspace(wavel-Dwavel,wavel+Dwavel,500)\n",
        "    neff0=slab(nc, ncladtop, ncladbot, wavel, d, pol ,plot=False, printit=False)\n",
        "    plt.figure(1)\n",
        "    for dt in ds:\n",
        "        T=[]\n",
        "        for w in wavels:\n",
        "            neff1=slab(nc, ncladtop, ncladbot, w, dt, pol ,plot=False, printit=False)\n",
        "            if len(neff1)==0: # This is to work around the buggy neffs, by putting them to zero\n",
        "                T=np.append(T,0)\n",
        "            else:\n",
        "                # This is the wave interference equation for 2 waves with intensity I, just 2I(1+cos(Deltaphi))\n",
        "                T=np.append(T,50*(1+np.cos(2*np.pi*L*(max(neff1)-neff0)/w))) #assumed 2I=50 for Imax=100\n",
        "            \n",
        "        T_total=np.array(T)\n",
        "        plt.plot(wavels,T_total)\n",
        "\n",
        "    plt.title('P3.2: Interferometer transmission vs. wavelength')\n",
        "    plt.ylabel('Transmission (%)')\n",
        "    plt.xlabel('Wavelength (um)')\n",
        "    plt.show()\n",
        "    return\n",
        "problem32()\n",
        "        "
      ],
      "metadata": {
        "colab": {
          "base_uri": "https://localhost:8080/",
          "height": 573
        },
        "id": "OAt9F-HFhG6L",
        "outputId": "250568e1-d764-478a-b40e-194bee27a011"
      },
      "execution_count": null,
      "outputs": [
        {
          "output_type": "display_data",
          "data": {
            "text/plain": [
              "<Figure size 432x288 with 1 Axes>"
            ],
            "image/png": "[encoded data removed]"
          },
          "metadata": {
            "needs_background": "light"
          }
        },
        {
          "output_type": "display_data",
          "data": {
            "text/plain": [
              "<Figure size 432x288 with 1 Axes>"
            ],
            "image/png": "[encoded data removed]"
          },
          "metadata": {
            "needs_background": "light"
          }
        }
      ]
    },
    {
      "cell_type": "markdown",
      "metadata": {
        "id": "H07vn59DLLK7"
      },
      "source": [
        "### 1.3. Fabrication variation in waveguides\n",
        "In rectangular dielectric waveguides, the modes are not pure TE and TM modes, since there is an electric and magnetic field component along the propagation direction. \n",
        "They are then called Quasi-TE and Quasi-TM, but, for simplicity, in these notes we will call them TE and TM.\n",
        "\n",
        "The phase of a wave traveling through a waveguide depends on a number of factors.\n",
        "The phase $\\phi$ of an electromagnetic wave exiting a waveguide with length $L$ and effective refractive index $\\text{n}_\\text{eff}$, is $\\phi=2\\pi L\\text{n}_\\text{eff}/\\lambda_0$.\n",
        "Consequently, by changing $\\lambda_0$, $L$, or $n_\\text{eff}$, the wave experiences a phase shift with respect to the unchanged case.\n",
        "\n",
        "Changing $n_\\text{eff}$ is an important case, and can be achieved by changing the refractive index of any of the materials forming the waveguide (e.g. top, bottom cladding, or core), for example by changing the temperature of operation via the thermo-optic coefficient ($\\frac{\\partial n}{dT}$) or exchanging air cladding for a liquid.\n",
        "The effective index of the mode then varies by $\\Delta n_\\text{eff}$, which leads to a change in phase velocity along the affected length of the waveguide, which means a change in phase $\\Delta\\phi$ for the wave, such that\n",
        "$$\n",
        "\\Delta \\phi = 2\\pi\\frac{L}{\\lambda_0} \\Delta n_\\text{eff}.\n",
        "\\label{eq:phaseshift}\n",
        "$$\n",
        "\n",
        "This effect is key for reconfigurable photonics and optical sensing.\n",
        "For example, by changing the effective index of a waveguide mode, the phase of the wave can be tuned, which can in turn tune effects such as interference.\n",
        "Or the other way around: one can detect changes in refractive index by measuring phase shifts of a wave, for example by using interferometric approaches, and back-calculate the refractive index of the material that caused the phase shift."
      ]
    },
    {
      "cell_type": "markdown",
      "metadata": {
        "id": "9SfbUVhbLLK7"
      },
      "source": [
        "### Problem 3: Fabrication variation in an on-chip interferometer\n",
        "\n",
        "Calculate the effect of a fabrication error up to $\\Delta d=\\pm 20$ nm in your slab thickness $d$ over a length of $L=10 \\mu$m. \n",
        "1. Plot the resulting phase shift versus waveguide thickness. \n",
        "2. Calculate and plot the wavelength spectrum of a waveguide interferometer (i.e. collinear waves with a phase shift $\\Delta\\phi$) assuming a $\\Delta L=10~\\mu$m and a non-perturbed waveguide (let's say $n_\\text{eff0}$). Then, plot a few spectra when your slab is affected by the fabrication error. If you designed your interferometer to filter out a wavelength $\\lambda_0$, calculate the wavelength shift that you observe when fabrication errors kick in."
      ]
    },
    {
      "cell_type": "code",
      "source": [
        "# Solutions to Problem 3\n",
        "def problem31(nc=3.48, ncladtop=1.5, ncladbot=1.5, wavel=1.55, d=0.2, pol='TE', Deltad=0.02, L=10):\n",
        "    ds=np.linspace(d-Deltad,d+Deltad,10)\n",
        "    neff0=slab(nc, ncladtop, ncladbot, wavel, d, pol ,plot=False, printit=False)\n",
        "    plt.figure(1)\n",
        "    for dt in ds:\n",
        "        neff1=slab(nc, ncladtop, ncladbot, wavel, dt, pol ,plot=False, printit=False)\n",
        "        Deltaphi=2*L*(max(neff1)-neff0)/wavel # From the text above, just divided by pi to plot in units of pi\n",
        "        plt.plot(dt,Deltaphi,'b.')\n",
        "    plt.title('P3.1: phase shift vs. slab height')\n",
        "    plt.ylabel('Phase shift ($\\pi$)')\n",
        "    plt.xlabel('Slab height (um)')\n",
        "    plt.show()\n",
        "    return\n",
        "problem31()\n",
        "\n",
        "def problem32(nc=3.48, ncladtop=1.5, ncladbot=1.5, wavel=1.55, Dwavel=0.2, d=0.2, pol='TE', Deltad=0.01, L=10):\n",
        "    # Here I am plotting with a Deltad of 10 nm to make it easier to visualize for my choice of ref indexes. \n",
        "    # Note also that there's a (likely numerical) bug in the slab function, which I evade by making neff 0 when empty\n",
        "    ds=np.linspace(d-Deltad,d+Deltad,5)\n",
        "    wavels=np.linspace(wavel-Dwavel,wavel+Dwavel,500)\n",
        "    neff0=slab(nc, ncladtop, ncladbot, wavel, d, pol ,plot=False, printit=False)\n",
        "    plt.figure(1)\n",
        "    for dt in ds:\n",
        "        T=[]\n",
        "        for w in wavels:\n",
        "            neff1=slab(nc, ncladtop, ncladbot, w, dt, pol ,plot=False, printit=False)\n",
        "            if len(neff1)==0: # This is to work around the buggy neffs, by putting them to zero\n",
        "                T=np.append(T,0)\n",
        "            else:\n",
        "                # This is the wave interference equation for 2 waves with intensity I, just 2I(1+cos(Deltaphi))\n",
        "                T=np.append(T,50*(1+np.cos(2*np.pi*L*(max(neff1)-neff0)/w))) #assumed 2I=50 for Imax=100\n",
        "            \n",
        "        T_total=np.array(T)\n",
        "        plt.plot(wavels,T_total)\n",
        "\n",
        "    plt.title('P3.2: Interferometer transmission vs. wavelength')\n",
        "    plt.ylabel('Transmission (%)')\n",
        "    plt.xlabel('Wavelength (um)')\n",
        "    plt.show()\n",
        "    return\n",
        "problem32()\n",
        "        "
      ],
      "metadata": {
        "colab": {
          "base_uri": "https://localhost:8080/",
          "height": 573
        },
        "id": "v9q9GCJThhW6",
        "outputId": "a49b65af-55cf-4fe7-c602-96a351ac4462"
      },
      "execution_count": null,
      "outputs": [
        {
          "output_type": "display_data",
          "data": {
            "text/plain": [
              "<Figure size 432x288 with 1 Axes>"
            ],
            "image/png": "[encoded data removed]"
          },
          "metadata": {
            "needs_background": "light"
          }
        },
        {
          "output_type": "display_data",
          "data": {
            "text/plain": [
              "<Figure size 432x288 with 1 Axes>"
            ],
            "image/png": "[encoded data removed]"
          },
          "metadata": {
            "needs_background": "light"
          }
        }
      ]
    },
    {
      "cell_type": "markdown",
      "metadata": {
        "id": "l6b_hpi4LLK8"
      },
      "source": [
        "## 2. Photonic waveguide devices\n",
        "Waveguide devices feature geometries in which the waveguide cross-section varies along the propagation direction. \n",
        "Derivation of the properties of such devices can be done semi-analytically (mode expansion, coupled mode theory, supermode theory), or numerically.  \n",
        "\n",
        "General figures characterizing optical devices are power ratios.\n",
        "Insertion loss (IL) is a common power ratio for all optical devices, and represents the device losses as the ratio between the transmitted power and the input power.\n",
        "The extinction ratio (ER) of a device is simply the ratio between two optical powers, usually related to on and off states in a switch. \n",
        "In optical devices, one example is the ratio between on-resonance and off-resonance transmission signals in a resonator.\n",
        "A related concept is polarization extinction ratio (PER), which, in a polarization selective device such as a polarizing beam splitter (PBS), relates the transmitted power into the desired port to the leaked power into the undesired port for a specific polarization."
      ]
    },
    {
      "cell_type": "markdown",
      "metadata": {
        "id": "pc97Jt3HLLK8"
      },
      "source": [
        "### 2.1. Directional couplers\n",
        "Directional couplers are devices formed by waveguides in close proximity, so that the waveguide modes of the individual waveguides are no longer independent, and couple, resulting in power transfer.\n",
        "\t\n",
        "A good and intuitive approximation to directional couplers comes from supermode theory.\n",
        "A simplified directional coupler is formed by two identical single-mode waveguides in parallel to each other.\n",
        "If we look at the device as being a single waveguide, and calculate or simulate its eigenmodes, we obtain a symmetric and an antisymmetric mode, with different effective refractive indexes $n_\\text{eff,sym}$ and $n_\\text{eff,asym}$ and thus propagation constants $\\beta_\\text{sym}$ and $\\beta_\\text{asym}$.\n",
        "For single-mode waveguides, the coupler modes (so-called supermodes), combined with the radiative modes, form a complete set, and thus all modes in such a waveguide system can be represented as a linear combination of them. \t\n",
        "\n",
        "![coupler](T-coupler.png)\n",
        "\n",
        "Excitation of one waveguide of the coupler results in out-of-phase excitation of both supermodes, and their interference along the directional coupler leads to power transfer between the two waveguides.\n",
        "For full power transfer at a certain propagation distance $L$, the modes interact destructively, and thus\n",
        "$$\n",
        "(\\beta_\\text{sym}-\\beta_\\text{asym})L=m\\pi,\\quad \\text{with} \\quad m=1,3,5...\n",
        "$$\n",
        "which, solving for $L$ and the first order interference $m=1$, leads to\n",
        "$$\n",
        "L=\\frac{\\lambda_0}{2(n_\\text{eff,sym}-n_\\text{eff,asym})}\n",
        "$$\n",
        "\t\n",
        "Note that a change in a geometrical parameter, such as the gap between the two waveguides, results in a change in the effective indexes of the supermodes, causing a change in the optical power coupled into each of the output waveguides.\n",
        "\t\n",
        "From a circuit perspective, the incoming and outgoing electric fields for a directional coupler can be defined by the matrix\n",
        "$$\n",
        "\\begin{pmatrix}\n",
        "\tE_4\\\\ E_2\n",
        "\\end{pmatrix}\n",
        "\t=\n",
        "\\begin{pmatrix}\n",
        "\tr& i\\xi\\\\i\\xi&r\n",
        "\\end{pmatrix} \n",
        "\\begin{pmatrix}\n",
        "\tE_3\\\\ E_1\n",
        "\\end{pmatrix},\n",
        "$$\n",
        "with E$_{1-4}$ the electric field amplitudes of the input and output modes as defined in the figure, and $r,\\xi\\in\\mathbb{R}$ the self- and cross-coupling coefficients, with $r^2+\\xi^2=1$ for a loss-less ideal coupler.\n",
        "The imaginary unit $i$ relates to a $\\pi/2$ phase shift between the output amplitudes, and stems from energy conservation and symmetry.\n",
        "\n",
        "For directional couplers with non-identical waveguides, the waveguides may not be phase matched (different effective refractive index for the de-coupled waveguides), and thus power transfer will not be complete, and its efficiency will depend on the difference between their effective mode indexes. \n",
        "\t\n",
        "These simplifications do not take into account that directional couplers are not composed only of straight waveguides, but also of waveguide bends, which bring the modes into coupling before the straight section starts, resulting in an effectively increased coupler length. \n",
        "In most cases, a numerical simulation is required to optimally design such devices."
      ]
    },
    {
      "cell_type": "markdown",
      "metadata": {
        "id": "8OPL1oXTLLK8"
      },
      "source": [
        "### Problem 4: Designing a directional coupler\n",
        "1. Choose your integrated photonic platform and single-mode waveguide geometry and calculate the length of a directional coupler that makes a 50/50 beam splitter using supermode theory and the 2D waveguide mode simulator in https://www.computational-photonics.eu/eims.html. Remember that we are simulating the cross-section of the waveguide system.\n",
        "2. Select 5 gap widths and plot your results showing the coupling length required for 50:50 beam splitter operation. Confirm your result clicking the Lc tab in the simulator. You may want to check the definition of Lc in the software.\n",
        "3. Discuss the trade-offs between lithography resolution (i.e. minimum gap) and beam splitter length for your photonic platform."
      ]
    },
    {
      "cell_type": "code",
      "source": [
        "def problem4():\n",
        "    # Here I chose a silicon (n=3.48) core surrounded by silicon dioxide (n=1.5) with a height of 0.2 um\n",
        "    # and waveguide widths of 0.4 um, and at a wavelength of 1.55 um\n",
        "    wavel=1.55\n",
        "    sols=np.array([[0.1, 2.036726295, 2.016378324],\n",
        "                 [0.2, 2.026781594, 2.01907562],\n",
        "                 [0.3, 2.024007496, 2.02066649],\n",
        "                 [0.4, 2.022965526, 2.021482347],\n",
        "                 [0.5, 2.022532435, 2.021871025]]) # gap, neff1, neff2\n",
        "    #Lc divided by 2 to go from full coupling (transmission=1) to 50% coupling (transmission=0.5)\n",
        "    L50=wavel/4/abs(sols[:,1]-sols[:,2]) \n",
        "    plt.figure(1)\n",
        "    plt.plot(sols[:,0],L50)\n",
        "    plt.title('P4.2: Directional coupler length vs. gap')\n",
        "    plt.ylabel('Coupler length (um)')\n",
        "    plt.xlabel('Coupler gap (um)')\n",
        "    plt.show()\n",
        "    return\n",
        "problem4()\n",
        "# The smaller the gap, the shorter the directional coupler can be, which leads to more densely pack photonic circuits.\n",
        "# However, lithography resolution will limit the minimum gap achievable, and thus will set a limit to how short\n",
        "# of a directional coupler we can design"
      ],
      "metadata": {
        "colab": {
          "base_uri": "https://localhost:8080/",
          "height": 295
        },
        "id": "_Djg7E7Khn1y",
        "outputId": "3abe1c88-3457-4b4b-90e4-068aea4d0f1e"
      },
      "execution_count": null,
      "outputs": [
        {
          "output_type": "display_data",
          "data": {
            "text/plain": [
              "<Figure size 432x288 with 1 Axes>"
            ],
            "image/png": "[encoded data removed]"
          },
          "metadata": {
            "needs_background": "light"
          }
        }
      ]
    },
    {
      "cell_type": "markdown",
      "source": [
        "#QUIZ\n",
        "What is a directional coupler?\n",
        "\n",
        "A) A device used to transfer power between two waveguides\n",
        "B) A device used to split power between two waveguides\n",
        "C) A device used to combine power from two waveguides\n",
        "D) A device used to modulate power in a single waveguide\n",
        "\n",
        "What is the distance required for full power transfer in a directional coupler, as determined by supermode theory?\n",
        "\n",
        "A) $\\frac{\\lambda_0}{2(n_\\text{eff,sym}+n_\\text{eff,asym})}$\n",
        "B) $\\frac{\\lambda_0}{2(n_\\text{eff,sym}-n_\\text{eff,asym})}$\n",
        "C) $\\frac{\\lambda_0}{(n_\\text{eff,sym}+n_\\text{eff,asym})}$\n",
        "D) $\\frac{\\lambda_0}{(n_\\text{eff,sym}-n_\\text{eff,asym})}$\n",
        "\n",
        "What is the matrix representation of the incoming and outgoing electric fields for a directional coupler?\n",
        "\n",
        "A) $\\begin{pmatrix} E_1\\ E_2 \\end{pmatrix} = \\begin{pmatrix} r& i\\xi\\i\\xi&r \\end{pmatrix} \\begin{pmatrix} E_3\\ E_4 \\end{pmatrix}$\n",
        "B) $\\begin{pmatrix"
      ],
      "metadata": {
        "id": "NV5Ssw5X81KD"
      }
    },
    {
      "cell_type": "markdown",
      "source": [
        "What is a directional coupler formed by?\n",
        "A) Waveguides in close proximity\n",
        "B) A single waveguide\n",
        "C) Two identical waveguides\n",
        "D) Waveguide bends\n",
        "\n",
        "What is the name for the modes in a single-mode waveguide system that can be represented as a linear combination of coupler modes and radiative modes?\n",
        "A) Radiative modes\n",
        "B) Coupler modes\n",
        "C) Eigenmodes\n",
        "D) Supermodes\n",
        "\n",
        "What results in out-of-phase excitation of both supermodes in a directional coupler?\n",
        "A) Power transfer between the two waveguides\n",
        "B) Energy conservation\n",
        "C) Excitation of one waveguide\n",
        "D) Symmetry\n",
        "\n",
        "What does the matrix\n",
        "$$\n",
        "\\begin{pmatrix}\n",
        "E_4\\ E_2\n",
        "\\end{pmatrix}\n",
        "\\begin{pmatrix}\n",
        "r& i\\xi\\i\\xi&r\n",
        "\\end{pmatrix}\n",
        "\\begin{pmatrix}\n",
        "E_3\\ E_1\n",
        "\\end{pmatrix}\n",
        "$$\n",
        "represent for a directional coupler?\n",
        "A) The incoming and outgoing electric fields\n",
        "B) The self- and cross-coupling coefficients\n",
        "C) The effective refractive indexes\n",
        "D) The propagation constants\n",
        "\n",
        "What happens when the waveguides in a directional coupler are not phase matched?\n",
        "A) Power transfer will be complete\n",
        "B) Power transfer will"
      ],
      "metadata": {
        "id": "JSjwnSqL90Ix"
      }
    },
    {
      "cell_type": "markdown",
      "metadata": {
        "id": "GpcXvjr_LLK8"
      },
      "source": [
        "### 2.2. Diffraction gratings\n",
        "Diffraction gratings are optical components widely used in integrated photonics, as they enable light coupling in and out of the chip, and filtering.\n",
        "They are formed by a periodic structure, such as slits on a plane, dents in a mirror, or ridges in a waveguide.\n",
        "Each of these structures scatters light, which interferes along its propagation, leading to light beams traveling in different directions.\n",
        "The key properties of diffraction gratings can be easily understood by looking into wave interference, and we will follow this method here, as it gives a good approximation to their function.\n",
        "\n",
        "![gratings](T-grat.png)\n",
        "\n",
        "To achieve constructive interference between two waves, their phase difference should be a multiple of $2\\pi$, and so the difference of the optical paths should be a multiple of the wavelength. \n",
        "If we assume an in-plane waveguide propagating light into a waveguide grating, for two grating teeth (assumed as point scatterers), the difference of the optical path is the difference between the distance traveled by the first scattered wave in air (blue line in figure) and the distance traveled by the rest of the wave along the waveguide until the next scatterer (orange line in figure).\n",
        "\n",
        "This leads to the following grating equation,\n",
        "$$\n",
        "\\Lambda \\text{n}_\\text{eff}-\\Lambda \\text{n}_\\text{clad}\\sin\\theta=m\\lambda,\\quad \\text{with} \\quad \n",
        "\\text{n}_\\text{eff}\\approx \\frac{\\text{n}_\\text{wg}w_t+\\text{n}_\\text{slab}g}{w_t+g},\n",
        "$$\n",
        "with $\\Lambda$ the distance between grating teeth (grating pitch), $n_{air}$ the refractive index of the waveguide cladding, $n_{slab}$ the effective index of the slab (waveguide profile in $g$), $\\theta$ the outcoupling angle, $n_{eff}$ the effective refractive index of the waveguide grating, which can be simulated or estimated by the above equation, $m$ the diffraction order, $\\lambda$ the wavelength of the light, $n_{core}$ the refractive index of the waveguide core material, $w_t$ the tooth width, and $g$ the width of the gaps between teeth, with $\\Lambda=d+g$.\n",
        "\n",
        "In reality, such grating devices are fabricated on a chip, and a substrate sits at a certain distance below the grating, separated by a low refractive index buffer layer to satisfy the waveguiding conditions.\n",
        "Part of the light is scattered below the grating, and some of it reflects up into the grating again, causing additional interference.\n",
        "This effect is commonly used to improve efficiency of grating couplers by selecting the distance between grating and substrate (or a mirror deposited above the substrate) so that constructive interference is obtained.\n",
        "\t\n",
        "It is important to note that this method approximates the scatterers as single-point sources (Rayleigh scattering), which scatter light spherically, and that it assumes that the wavelength of light in the material $\\lambda$ is shorter than the grating pitch $\\Lambda$.\n",
        "In waveguides, we usually work in the limit situation in which the wavelength is on the same scale as the pitch, so this calculation is an approximation, and requires confirmation and fine-tuning by numerical approaches."
      ]
    },
    {
      "cell_type": "markdown",
      "metadata": {
        "id": "Z55yBlJgLLK8"
      },
      "source": [
        "With your waveguide geometry, make a function that outputs the coupling angle for all diffraction modes of a fully-etched grating coupler with 50% duty cycle given your mode index and the period."
      ]
    },
    {
      "cell_type": "code",
      "execution_count": null,
      "metadata": {
        "id": "iFOkNTHILLK8"
      },
      "outputs": [],
      "source": [
        "def grating(nwg, nclad, nslab, wavel, plot=False):\n",
        "    wavel=wavel*1e-6\n",
        "    neff=(nwg+nslab)/2 # assuming 50% duty cycle\n",
        "    period=np.linspace(0.1e-6,3e-6,num=100)\n",
        "    if plot==True:\n",
        "        for m in list(range(5)):\n",
        "            omega=np.arcsin(-(m*wavel-period*neff)/period/nclad)\n",
        "            plt.plot(period*1e6, omega*180/np.pi)\n",
        "        plt.xlabel('Period (µm)')\n",
        "        plt.ylabel('Angle (deg)')\n",
        "\n",
        "grating(2,1,1,1.55)"
      ]
    },
    {
      "cell_type": "code",
      "execution_count": null,
      "metadata": {
        "colab": {
          "referenced_widgets": [
            "30c41866c5604f17a4c6c8fad42b3d5c",
            "f599bdc5113f4e679981904c104a0efd",
            "79e17df7039e4a568f24cc90104e7b83",
            "49eab0f132ad4e9689978618ec6cfd88",
            "2aad89d9a3b34056bbfe1126b0af5a64",
            "3b0b25cebc1047a58c30bfc33debd7e6",
            "a34b9a0065574cecbc3f7d89be3fb09b",
            "1d7d246f5a6a4cbab70984e85c1ea9ea",
            "8f7429e7d1274db499fbee7eaa6b7da0",
            "73cbeb1845054598bfca3fcb6a29b1db",
            "5bc774e6c0e84aef9684481b43933f83",
            "3d992f67f5704feb8fe54129d2b594dc",
            "add9d217f9d14f17957b8764fd55492d",
            "2fdc032f9c3c4447a1585095dcc5d6b9",
            "3f94c6251a654496aa11a12299fe0cf5",
            "89ef5641afa8439ca6138502d154d97a",
            "23d8db130ced46d28393c6ffee3c7bd9",
            "e8dc4cf432d34c399b68868a8c9adc20",
            "cd6b1622ad684b2ea434e21a074ff31e"
          ],
          "base_uri": "https://localhost:8080/",
          "height": 177
        },
        "id": "jnwzxdI8LLK8",
        "outputId": "b4578586-8e7a-4c0d-a202-1d70ce8a17e9"
      },
      "outputs": [
        {
          "output_type": "display_data",
          "data": {
            "text/plain": [
              "interactive(children=(FloatSlider(value=2.0, description='nwg', max=4.0, min=1.0), FloatSlider(value=1.0, desc…"
            ],
            "application/vnd.jupyter.widget-view+json": {
              "version_major": 2,
              "version_minor": 0,
              "model_id": "30c41866c5604f17a4c6c8fad42b3d5c"
            }
          },
          "metadata": {}
        }
      ],
      "source": [
        "interactive(grating, nwg=(1,4,0.1), nclad=(1,2,0.1), nslab=(1,2,0.1), wavel=(0.6,2,0.2))"
      ]
    },
    {
      "cell_type": "markdown",
      "source": [
        "# Phase shifting"
      ],
      "metadata": {
        "id": "7AQlQzzta4EX"
      }
    },
    {
      "cell_type": "code",
      "source": [
        "data = {\n",
        "    \"Physical quantity\": [\n",
        "        \"Piezo ring (single material poling)\",\n",
        "        \"Piezo ring (single material poling)\",\n",
        "        \"Piezo disc + cantilever\"\n",
        "    ],\n",
        "    \"Part number\": [\n",
        "        \"SMR2809T13BT From STEMInc\",\n",
        "        \"SMR15D65T5118 From STEMInc\",\n",
        "        \"APC international part number R-38.00-13.00-6.35mm-844\"\n",
        "    ],\n",
        "    \"Geometric properties\": [\n",
        "        \"Dimensions: OD 27.94 x ID 8.915 x Th 13.4mm\",\n",
        "        \"Dimensions: OD 15.00 x ID 6.50 x Th 5.00 mm\",\n",
        "        \"Dimensions: OD 27.94 x ID 8.915 x Th 13.4mm\"\n",
        "    ],\n",
        "    \"Material properties\": [\n",
        "        \"Lead Free Barium Ceramic Ring with Silver electrodes on both sides. d33=160pm/V\",\n",
        "        \"Piezo material SM118 with silver electrodes on both the sides d33=250pm/V\",\n",
        "        \"d33=300pm/V\"\n",
        "    ],\n",
        "    \"Resonant frequency mode\": [\n",
        "        \"Thickness mode\",\n",
        "        \"Thickness mode\",\n",
        "        \"Thickness mode + level arm action\"\n",
        "    ],\n",
        "    \"Resonant frequency\": [200000, 410000, 340000],\n",
        "    \"Maximum amplitude (analytical estimate)\": [\n",
        "        \"30 V*0.16 nm/V * Quality factor ~ 30 V * 0.16 nm/V * 100 ~ 480 nm ~ 0.64 𝜆\",\n",
        "        \"30 V*0.25 nm/V * Quality factor ~ 30 V * 0.25 nm/V * 200 ~ 1500 nm ~ 2.00 𝜆\",\n",
        "        \"90 V*0.30 nm/V * Quality factor ~ 90 V * 0.30 nm/V * 200 ~ 5400 nm ~ 7.20 𝜆\"\n",
        "    ],\n",
        "    \"Maximum amplitude (experimentally measured)\": [\"\", \"\", \"30 𝜇m (Note that this work used a voltage of 90 V applied on the transducer, and results from a lever arm action)\"],\n",
        "    \"Phase velocity\": [\n",
        "        \"200kHz*2pi*0.48 𝜇m ~ 0.6 m/s\",\n",
        "        \"410kHz*2pi*1.50𝜇m ~ 3.85 m/s\",\n",
        "        \"340 kHz*2pi*30 𝜇m ~ 64.06 m/s\"\n",
        "    ],\n",
        "    \"Phase velocity/2pi\": [\"~ 0.09 m/s\", \"0.6 m/s\", \"\"],\n",
        "    \"Area of the device\": [550, 143, 1000],\n",
        "    \"Volume of the device\": [7400, 717, 6350],\n",
        "    \"Number of optical modes that can be switched on\": [\"~ 0.1*550 mm^2 /(10 mm * 0.750e-3 mm) ~ 7332\", \"~ 0.1*143 mm^2 /(10 mm * 0.750e-3 mm) ~ 1906\", \"~ 0.1*1000 mm^2 /(10 mm * 0.750e-3 mm) ~ 13332\"],\n",
        "    \"Power consumed (total)\": [6, \"\", 500\n",
        "                               \n",
        "\n",
        "                               data = {\n",
        "    \"Physical quantity\": [\n",
        "        \"Piezo ring (single material poling)\",\n",
        "        \"Piezo ring (single material poling)\",\n",
        "        \"Piezo disc + cantilever\"\n",
        "    ],\n",
        "    \"Part number\": [\n",
        "        \"SMR2809T13BT From STEMInc\",\n",
        "        \"SMR15D65T5118 From STEMInc\",\n",
        "        \"APC international part number R-38.00-13.00-6.35mm-844\"\n",
        "    ],\n",
        "    \"Geometric properties\": [\n",
        "        \"Dimensions: OD 27.94 x ID 8.915 x Th 13.4mm\",\n",
        "        \"Dimensions: OD 15.00 x ID 6.50 x Th 5.00 mm\",\n",
        "        \"Dimensions: OD 27.94 x ID 8.915 x Th 13.4mm\"\n",
        "    ],\n",
        "    \"Material properties\": [\n",
        "        \"Lead Free Barium Ceramic Ring with Silver electrodes on both sides. d33=160pm/V\",\n",
        "        \"Piezo material SM118 with silver electrodes on both the sides d33=250pm/V\",\n",
        "        \"d33=300pm/V\"\n",
        "    ],\n",
        "    \"Resonant frequency mode\": [\n",
        "        \"Thickness mode\",\n",
        "        \"Thickness mode\",\n",
        "        \"Thickness mode + level arm action\"\n",
        "    ],\n",
        "    \"Resonant frequency\": [200000, 410000, 340000],\n",
        "    \"Maximum amplitude (analytical estimate)\": [\n",
        "        \"30 V*0.16 nm/V * Quality factor ~ 30 V * 0.16 nm/V * 100 ~ 480 nm ~ 0.64 𝜆\",\n",
        "        \"30 V*0.25 nm/V * Quality factor ~ 30 V * 0.25 nm/V * 200 ~ 1500 nm ~ 2.00 𝜆\",\n",
        "        \"90 V*0.30 nm/V * Quality factor ~ 90 V * 0.30 nm/V * 200 ~ 5400 nm ~ 7.20 𝜆\"\n",
        "    ],\n",
        "    \"Maximum amplitude (experimentally measured)\": [\"\", \"\", \"30 𝜇m (Note that this work used a voltage of 90 V applied on the transducer, and results from a lever arm action)\"],\n",
        "    \"Phase velocity\": [\n",
        "        \"200kHz*2pi*0.48 𝜇m ~ 0.6 m/s\",\n",
        "        \"410kHz*2pi*1.50𝜇m ~ 3.85 m/s\",\n",
        "        \"340 kHz*2pi*30 𝜇m ~ 64.06 m/s\"\n",
        "    ],\n",
        "    \"Phase velocity/2pi\": [\"~ 0.09 m/s\", \"0.6 m/s\", \"\"],\n",
        "    \"Area of the device\": [550, 143, 1000],\n",
        "    \"Volume of the device\": [7400, 717, 6350],\n",
        "    \"Number of optical modes that can be switched on\": [\"~ 0.1*550 mm^2 /(10 mm * 0.750e-3 mm) ~ 7332\", \"~ 0.1*143 mm^2 /(10 mm * 0.750e-3 mm) ~ 1906\", \"~ 0.1*1000 mm^2 /(10 mm * 0.750e-3 mm) ~ 13332\"],\n",
        "    \"Power consumed (total)\": [6, \"\", 500\n"
      ],
      "metadata": {
        "colab": {
          "base_uri": "https://localhost:8080/",
          "height": 133
        },
        "id": "hMAFMD4na3Ti",
        "outputId": "60dfe321-35cb-4aa3-de5e-3bb765e47f52"
      },
      "execution_count": null,
      "outputs": [
        {
          "output_type": "error",
          "ename": "SyntaxError",
          "evalue": "ignored",
          "traceback": [
            "\u001b[0;36m  File \u001b[0;32m\"<ipython-input-93-005ccedee67c>\"\u001b[0;36m, line \u001b[0;32m46\u001b[0m\n\u001b[0;31m    data = {\u001b[0m\n\u001b[0m    ^\u001b[0m\n\u001b[0;31mSyntaxError\u001b[0m\u001b[0;31m:\u001b[0m invalid syntax\n"
          ]
        }
      ]
    },
    {
      "cell_type": "markdown",
      "metadata": {
        "id": "snlnag8xLLK9"
      },
      "source": [
        "## References\n",
        "[1] Saleh, B. E. A., and Teich, M. C., \"Fundamentals of photonics\", New York: Wiley (1991)\n",
        "\n",
        "[2] Van Thourhout, D., Baets, R., Ottevaere, H., \"Microphotonics\", Universiteit Gent and Vrije Universiteit Brussel (2013)\n",
        "\n",
        "[3] Errando-Herranz, C., \"Photonic MEMS for optical information technologies\", PhD Thesis, KTH Royal Institute of Technology (2018) urn:nbn:se:kth:diva-235069\n"
      ]
    }
  ],
  "metadata": {
    "kernelspec": {
      "display_name": "Python 3",
      "language": "python",
      "name": "python3"
    },
    "language_info": {
      "codemirror_mode": {
        "name": "ipython",
        "version": 3
      },
      "file_extension": ".py",
      "mimetype": "text/x-python",
      "name": "python",
      "nbconvert_exporter": "python",
      "pygments_lexer": "ipython3",
      "version": "3.7.4"
    },
    "colab": {
      "provenance": [],
      "include_colab_link": true
    },
    "widgets": {
      "application/vnd.jupyter.widget-state+json": {
        "3f300106ec3d42e9a452fc44524f0ac7": {
          "model_module": "@jupyter-widgets/controls",
          "model_name": "VBoxModel",
          "model_module_version": "1.5.0",
          "state": {
            "_dom_classes": [
              "widget-interact"
            ],
            "_model_module": "@jupyter-widgets/controls",
            "_model_module_version": "1.5.0",
            "_model_name": "VBoxModel",
            "_view_count": null,
            "_view_module": "@jupyter-widgets/controls",
            "_view_module_version": "1.5.0",
            "_view_name": "VBoxView",
            "box_style": "",
            "children": [
              "IPY_MODEL_ca542e8a5dbc4baab3bd06b539d15d44",
              "IPY_MODEL_0788d10ae00e49cc9737dbb2622a7c13",
              "IPY_MODEL_ce4a72783ac34fb2a7c6a9f9cc86884d",
              "IPY_MODEL_2ddb17529148417f95e62b4edc02f86e",
              "IPY_MODEL_1a830aa8ab7e4e7bbe2e6f9209359781",
              "IPY_MODEL_181262144d504b6ca3902dcdd8668512",
              "IPY_MODEL_abc0befe7cb444379db42271a01e76c7",
              "IPY_MODEL_1915d8d586b042cebd547e50e764d46c",
              "IPY_MODEL_f3613c4c7854482f88e0d9e97fde9898"
            ],
            "layout": "IPY_MODEL_e830ca81727b4131815431559eb51be0"
          }
        },
        "ca542e8a5dbc4baab3bd06b539d15d44": {
          "model_module": "@jupyter-widgets/controls",
          "model_name": "FloatSliderModel",
          "model_module_version": "1.5.0",
          "state": {
            "_dom_classes": [],
            "_model_module": "@jupyter-widgets/controls",
            "_model_module_version": "1.5.0",
            "_model_name": "FloatSliderModel",
            "_view_count": null,
            "_view_module": "@jupyter-widgets/controls",
            "_view_module_version": "1.5.0",
            "_view_name": "FloatSliderView",
            "continuous_update": true,
            "description": "nc",
            "description_tooltip": null,
            "disabled": false,
            "layout": "IPY_MODEL_537693fe88214f4fb4d0038b3c618d5b",
            "max": 4,
            "min": 1,
            "orientation": "horizontal",
            "readout": true,
            "readout_format": ".2f",
            "step": 0.1,
            "style": "IPY_MODEL_ce79952b0f744b808c2ca0f5ddaff4b7",
            "value": 2
          }
        },
        "0788d10ae00e49cc9737dbb2622a7c13": {
          "model_module": "@jupyter-widgets/controls",
          "model_name": "FloatSliderModel",
          "model_module_version": "1.5.0",
          "state": {
            "_dom_classes": [],
            "_model_module": "@jupyter-widgets/controls",
            "_model_module_version": "1.5.0",
            "_model_name": "FloatSliderModel",
            "_view_count": null,
            "_view_module": "@jupyter-widgets/controls",
            "_view_module_version": "1.5.0",
            "_view_name": "FloatSliderView",
            "continuous_update": true,
            "description": "ncladtop",
            "description_tooltip": null,
            "disabled": false,
            "layout": "IPY_MODEL_08c91a81762847b3848837b27d8def7d",
            "max": 2,
            "min": 1,
            "orientation": "horizontal",
            "readout": true,
            "readout_format": ".2f",
            "step": 0.1,
            "style": "IPY_MODEL_1e807281e5cf4882b6bd987ba58504e2",
            "value": 1
          }
        },
        "ce4a72783ac34fb2a7c6a9f9cc86884d": {
          "model_module": "@jupyter-widgets/controls",
          "model_name": "FloatSliderModel",
          "model_module_version": "1.5.0",
          "state": {
            "_dom_classes": [],
            "_model_module": "@jupyter-widgets/controls",
            "_model_module_version": "1.5.0",
            "_model_name": "FloatSliderModel",
            "_view_count": null,
            "_view_module": "@jupyter-widgets/controls",
            "_view_module_version": "1.5.0",
            "_view_name": "FloatSliderView",
            "continuous_update": true,
            "description": "ncladbot",
            "description_tooltip": null,
            "disabled": false,
            "layout": "IPY_MODEL_f08b3af771204e1db24322af807479fd",
            "max": 2,
            "min": 1,
            "orientation": "horizontal",
            "readout": true,
            "readout_format": ".2f",
            "step": 0.1,
            "style": "IPY_MODEL_098390af5027479cb3dcce31b60950e0",
            "value": 1
          }
        },
        "2ddb17529148417f95e62b4edc02f86e": {
          "model_module": "@jupyter-widgets/controls",
          "model_name": "FloatSliderModel",
          "model_module_version": "1.5.0",
          "state": {
            "_dom_classes": [],
            "_model_module": "@jupyter-widgets/controls",
            "_model_module_version": "1.5.0",
            "_model_name": "FloatSliderModel",
            "_view_count": null,
            "_view_module": "@jupyter-widgets/controls",
            "_view_module_version": "1.5.0",
            "_view_name": "FloatSliderView",
            "continuous_update": true,
            "description": "wavel",
            "description_tooltip": null,
            "disabled": false,
            "layout": "IPY_MODEL_5c92a3f4338c4eb4b4c38a0659021254",
            "max": 2,
            "min": 0.6,
            "orientation": "horizontal",
            "readout": true,
            "readout_format": ".2f",
            "step": 0.2,
            "style": "IPY_MODEL_b1f400da76b243ce960c8da5e28a39b9",
            "value": 1.2000000000000002
          }
        },
        "1a830aa8ab7e4e7bbe2e6f9209359781": {
          "model_module": "@jupyter-widgets/controls",
          "model_name": "FloatSliderModel",
          "model_module_version": "1.5.0",
          "state": {
            "_dom_classes": [],
            "_model_module": "@jupyter-widgets/controls",
            "_model_module_version": "1.5.0",
            "_model_name": "FloatSliderModel",
            "_view_count": null,
            "_view_module": "@jupyter-widgets/controls",
            "_view_module_version": "1.5.0",
            "_view_name": "FloatSliderView",
            "continuous_update": true,
            "description": "d",
            "description_tooltip": null,
            "disabled": false,
            "layout": "IPY_MODEL_e08ee7bfab4847ffb3499df3ccca675c",
            "max": 2,
            "min": 0,
            "orientation": "horizontal",
            "readout": true,
            "readout_format": ".2f",
            "step": 0.1,
            "style": "IPY_MODEL_1a772e3065a84fae997e99679a07e41f",
            "value": 1
          }
        },
        "181262144d504b6ca3902dcdd8668512": {
          "model_module": "@jupyter-widgets/controls",
          "model_name": "TextModel",
          "model_module_version": "1.5.0",
          "state": {
            "_dom_classes": [],
            "_model_module": "@jupyter-widgets/controls",
            "_model_module_version": "1.5.0",
            "_model_name": "TextModel",
            "_view_count": null,
            "_view_module": "@jupyter-widgets/controls",
            "_view_module_version": "1.5.0",
            "_view_name": "TextView",
            "continuous_update": true,
            "description": "pol",
            "description_tooltip": null,
            "disabled": false,
            "layout": "IPY_MODEL_28089f8dcc7e4b639da174b3f0f4c5e3",
            "placeholder": "​",
            "style": "IPY_MODEL_18d9e9ba39ba4cf882b9400b709d91b2",
            "value": "TM"
          }
        },
        "abc0befe7cb444379db42271a01e76c7": {
          "model_module": "@jupyter-widgets/controls",
          "model_name": "CheckboxModel",
          "model_module_version": "1.5.0",
          "state": {
            "_dom_classes": [],
            "_model_module": "@jupyter-widgets/controls",
            "_model_module_version": "1.5.0",
            "_model_name": "CheckboxModel",
            "_view_count": null,
            "_view_module": "@jupyter-widgets/controls",
            "_view_module_version": "1.5.0",
            "_view_name": "CheckboxView",
            "description": "plot",
            "description_tooltip": null,
            "disabled": false,
            "indent": true,
            "layout": "IPY_MODEL_bd34ccaa921c408383cd051f27ecb208",
            "style": "IPY_MODEL_ad0bfe9bef6442ea8eabc8573284450e",
            "value": true
          }
        },
        "1915d8d586b042cebd547e50e764d46c": {
          "model_module": "@jupyter-widgets/controls",
          "model_name": "CheckboxModel",
          "model_module_version": "1.5.0",
          "state": {
            "_dom_classes": [],
            "_model_module": "@jupyter-widgets/controls",
            "_model_module_version": "1.5.0",
            "_model_name": "CheckboxModel",
            "_view_count": null,
            "_view_module": "@jupyter-widgets/controls",
            "_view_module_version": "1.5.0",
            "_view_name": "CheckboxView",
            "description": "printit",
            "description_tooltip": null,
            "disabled": false,
            "indent": true,
            "layout": "IPY_MODEL_c23e1a32caa3433497a90b0fa24a00f5",
            "style": "IPY_MODEL_cea6425e7e574f74a64becc4d8c8dbe7",
            "value": true
          }
        },
        "f3613c4c7854482f88e0d9e97fde9898": {
          "model_module": "@jupyter-widgets/output",
          "model_name": "OutputModel",
          "model_module_version": "1.0.0",
          "state": {
            "_dom_classes": [],
            "_model_module": "@jupyter-widgets/output",
            "_model_module_version": "1.0.0",
            "_model_name": "OutputModel",
            "_view_count": null,
            "_view_module": "@jupyter-widgets/output",
            "_view_module_version": "1.0.0",
            "_view_name": "OutputView",
            "layout": "IPY_MODEL_9af856d8a99046d58383c3b2c1d13ca1",
            "msg_id": "",
            "outputs": [
              {
                "output_type": "stream",
                "name": "stdout",
                "text": [
                  "Number of modes = 3\n"
                ]
              },
              {
                "output_type": "display_data",
                "data": {
                  "text/plain": "<Figure size 1080x360 with 3 Axes>",
                  "image/png": "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\n"
                },
                "metadata": {
                  "needs_background": "light"
                }
              },
              {
                "output_type": "stream",
                "name": "stdout",
                "text": [
                  "Neffs = [1.20520521 1.65665666 1.91791792]\n"
                ]
              }
            ]
          }
        },
        "e830ca81727b4131815431559eb51be0": {
          "model_module": "@jupyter-widgets/base",
          "model_name": "LayoutModel",
          "model_module_version": "1.2.0",
          "state": {
            "_model_module": "@jupyter-widgets/base",
            "_model_module_version": "1.2.0",
            "_model_name": "LayoutModel",
            "_view_count": null,
            "_view_module": "@jupyter-widgets/base",
            "_view_module_version": "1.2.0",
            "_view_name": "LayoutView",
            "align_content": null,
            "align_items": null,
            "align_self": null,
            "border": null,
            "bottom": null,
            "display": null,
            "flex": null,
            "flex_flow": null,
            "grid_area": null,
            "grid_auto_columns": null,
            "grid_auto_flow": null,
            "grid_auto_rows": null,
            "grid_column": null,
            "grid_gap": null,
            "grid_row": null,
            "grid_template_areas": null,
            "grid_template_columns": null,
            "grid_template_rows": null,
            "height": null,
            "justify_content": null,
            "justify_items": null,
            "left": null,
            "margin": null,
            "max_height": null,
            "max_width": null,
            "min_height": null,
            "min_width": null,
            "object_fit": null,
            "object_position": null,
            "order": null,
            "overflow": null,
            "overflow_x": null,
            "overflow_y": null,
            "padding": null,
            "right": null,
            "top": null,
            "visibility": null,
            "width": null
          }
        },
        "537693fe88214f4fb4d0038b3c618d5b": {
          "model_module": "@jupyter-widgets/base",
          "model_name": "LayoutModel",
          "model_module_version": "1.2.0",
          "state": {
            "_model_module": "@jupyter-widgets/base",
            "_model_module_version": "1.2.0",
            "_model_name": "LayoutModel",
            "_view_count": null,
            "_view_module": "@jupyter-widgets/base",
            "_view_module_version": "1.2.0",
            "_view_name": "LayoutView",
            "align_content": null,
            "align_items": null,
            "align_self": null,
            "border": null,
            "bottom": null,
            "display": null,
            "flex": null,
            "flex_flow": null,
            "grid_area": null,
            "grid_auto_columns": null,
            "grid_auto_flow": null,
            "grid_auto_rows": null,
            "grid_column": null,
            "grid_gap": null,
            "grid_row": null,
            "grid_template_areas": null,
            "grid_template_columns": null,
            "grid_template_rows": null,
            "height": null,
            "justify_content": null,
            "justify_items": null,
            "left": null,
            "margin": null,
            "max_height": null,
            "max_width": null,
            "min_height": null,
            "min_width": null,
            "object_fit": null,
            "object_position": null,
            "order": null,
            "overflow": null,
            "overflow_x": null,
            "overflow_y": null,
            "padding": null,
            "right": null,
            "top": null,
            "visibility": null,
            "width": null
          }
        },
        "ce79952b0f744b808c2ca0f5ddaff4b7": {
          "model_module": "@jupyter-widgets/controls",
          "model_name": "SliderStyleModel",
          "model_module_version": "1.5.0",
          "state": {
            "_model_module": "@jupyter-widgets/controls",
            "_model_module_version": "1.5.0",
            "_model_name": "SliderStyleModel",
            "_view_count": null,
            "_view_module": "@jupyter-widgets/base",
            "_view_module_version": "1.2.0",
            "_view_name": "StyleView",
            "description_width": "",
            "handle_color": null
          }
        },
        "08c91a81762847b3848837b27d8def7d": {
          "model_module": "@jupyter-widgets/base",
          "model_name": "LayoutModel",
          "model_module_version": "1.2.0",
          "state": {
            "_model_module": "@jupyter-widgets/base",
            "_model_module_version": "1.2.0",
            "_model_name": "LayoutModel",
            "_view_count": null,
            "_view_module": "@jupyter-widgets/base",
            "_view_module_version": "1.2.0",
            "_view_name": "LayoutView",
            "align_content": null,
            "align_items": null,
            "align_self": null,
            "border": null,
            "bottom": null,
            "display": null,
            "flex": null,
            "flex_flow": null,
            "grid_area": null,
            "grid_auto_columns": null,
            "grid_auto_flow": null,
            "grid_auto_rows": null,
            "grid_column": null,
            "grid_gap": null,
            "grid_row": null,
            "grid_template_areas": null,
            "grid_template_columns": null,
            "grid_template_rows": null,
            "height": null,
            "justify_content": null,
            "justify_items": null,
            "left": null,
            "margin": null,
            "max_height": null,
            "max_width": null,
            "min_height": null,
            "min_width": null,
            "object_fit": null,
            "object_position": null,
            "order": null,
            "overflow": null,
            "overflow_x": null,
            "overflow_y": null,
            "padding": null,
            "right": null,
            "top": null,
            "visibility": null,
            "width": null
          }
        },
        "1e807281e5cf4882b6bd987ba58504e2": {
          "model_module": "@jupyter-widgets/controls",
          "model_name": "SliderStyleModel",
          "model_module_version": "1.5.0",
          "state": {
            "_model_module": "@jupyter-widgets/controls",
            "_model_module_version": "1.5.0",
            "_model_name": "SliderStyleModel",
            "_view_count": null,
            "_view_module": "@jupyter-widgets/base",
            "_view_module_version": "1.2.0",
            "_view_name": "StyleView",
            "description_width": "",
            "handle_color": null
          }
        },
        "f08b3af771204e1db24322af807479fd": {
          "model_module": "@jupyter-widgets/base",
          "model_name": "LayoutModel",
          "model_module_version": "1.2.0",
          "state": {
            "_model_module": "@jupyter-widgets/base",
            "_model_module_version": "1.2.0",
            "_model_name": "LayoutModel",
            "_view_count": null,
            "_view_module": "@jupyter-widgets/base",
            "_view_module_version": "1.2.0",
            "_view_name": "LayoutView",
            "align_content": null,
            "align_items": null,
            "align_self": null,
            "border": null,
            "bottom": null,
            "display": null,
            "flex": null,
            "flex_flow": null,
            "grid_area": null,
            "grid_auto_columns": null,
            "grid_auto_flow": null,
            "grid_auto_rows": null,
            "grid_column": null,
            "grid_gap": null,
            "grid_row": null,
            "grid_template_areas": null,
            "grid_template_columns": null,
            "grid_template_rows": null,
            "height": null,
            "justify_content": null,
            "justify_items": null,
            "left": null,
            "margin": null,
            "max_height": null,
            "max_width": null,
            "min_height": null,
            "min_width": null,
            "object_fit": null,
            "object_position": null,
            "order": null,
            "overflow": null,
            "overflow_x": null,
            "overflow_y": null,
            "padding": null,
            "right": null,
            "top": null,
            "visibility": null,
            "width": null
          }
        },
        "098390af5027479cb3dcce31b60950e0": {
          "model_module": "@jupyter-widgets/controls",
          "model_name": "SliderStyleModel",
          "model_module_version": "1.5.0",
          "state": {
            "_model_module": "@jupyter-widgets/controls",
            "_model_module_version": "1.5.0",
            "_model_name": "SliderStyleModel",
            "_view_count": null,
            "_view_module": "@jupyter-widgets/base",
            "_view_module_version": "1.2.0",
            "_view_name": "StyleView",
            "description_width": "",
            "handle_color": null
          }
        },
        "5c92a3f4338c4eb4b4c38a0659021254": {
          "model_module": "@jupyter-widgets/base",
          "model_name": "LayoutModel",
          "model_module_version": "1.2.0",
          "state": {
            "_model_module": "@jupyter-widgets/base",
            "_model_module_version": "1.2.0",
            "_model_name": "LayoutModel",
            "_view_count": null,
            "_view_module": "@jupyter-widgets/base",
            "_view_module_version": "1.2.0",
            "_view_name": "LayoutView",
            "align_content": null,
            "align_items": null,
            "align_self": null,
            "border": null,
            "bottom": null,
            "display": null,
            "flex": null,
            "flex_flow": null,
            "grid_area": null,
            "grid_auto_columns": null,
            "grid_auto_flow": null,
            "grid_auto_rows": null,
            "grid_column": null,
            "grid_gap": null,
            "grid_row": null,
            "grid_template_areas": null,
            "grid_template_columns": null,
            "grid_template_rows": null,
            "height": null,
            "justify_content": null,
            "justify_items": null,
            "left": null,
            "margin": null,
            "max_height": null,
            "max_width": null,
            "min_height": null,
            "min_width": null,
            "object_fit": null,
            "object_position": null,
            "order": null,
            "overflow": null,
            "overflow_x": null,
            "overflow_y": null,
            "padding": null,
            "right": null,
            "top": null,
            "visibility": null,
            "width": null
          }
        },
        "b1f400da76b243ce960c8da5e28a39b9": {
          "model_module": "@jupyter-widgets/controls",
          "model_name": "SliderStyleModel",
          "model_module_version": "1.5.0",
          "state": {
            "_model_module": "@jupyter-widgets/controls",
            "_model_module_version": "1.5.0",
            "_model_name": "SliderStyleModel",
            "_view_count": null,
            "_view_module": "@jupyter-widgets/base",
            "_view_module_version": "1.2.0",
            "_view_name": "StyleView",
            "description_width": "",
            "handle_color": null
          }
        },
        "e08ee7bfab4847ffb3499df3ccca675c": {
          "model_module": "@jupyter-widgets/base",
          "model_name": "LayoutModel",
          "model_module_version": "1.2.0",
          "state": {
            "_model_module": "@jupyter-widgets/base",
            "_model_module_version": "1.2.0",
            "_model_name": "LayoutModel",
            "_view_count": null,
            "_view_module": "@jupyter-widgets/base",
            "_view_module_version": "1.2.0",
            "_view_name": "LayoutView",
            "align_content": null,
            "align_items": null,
            "align_self": null,
            "border": null,
            "bottom": null,
            "display": null,
            "flex": null,
            "flex_flow": null,
            "grid_area": null,
            "grid_auto_columns": null,
            "grid_auto_flow": null,
            "grid_auto_rows": null,
            "grid_column": null,
            "grid_gap": null,
            "grid_row": null,
            "grid_template_areas": null,
            "grid_template_columns": null,
            "grid_template_rows": null,
            "height": null,
            "justify_content": null,
            "justify_items": null,
            "left": null,
            "margin": null,
            "max_height": null,
            "max_width": null,
            "min_height": null,
            "min_width": null,
            "object_fit": null,
            "object_position": null,
            "order": null,
            "overflow": null,
            "overflow_x": null,
            "overflow_y": null,
            "padding": null,
            "right": null,
            "top": null,
            "visibility": null,
            "width": null
          }
        },
        "1a772e3065a84fae997e99679a07e41f": {
          "model_module": "@jupyter-widgets/controls",
          "model_name": "SliderStyleModel",
          "model_module_version": "1.5.0",
          "state": {
            "_model_module": "@jupyter-widgets/controls",
            "_model_module_version": "1.5.0",
            "_model_name": "SliderStyleModel",
            "_view_count": null,
            "_view_module": "@jupyter-widgets/base",
            "_view_module_version": "1.2.0",
            "_view_name": "StyleView",
            "description_width": "",
            "handle_color": null
          }
        },
        "28089f8dcc7e4b639da174b3f0f4c5e3": {
          "model_module": "@jupyter-widgets/base",
          "model_name": "LayoutModel",
          "model_module_version": "1.2.0",
          "state": {
            "_model_module": "@jupyter-widgets/base",
            "_model_module_version": "1.2.0",
            "_model_name": "LayoutModel",
            "_view_count": null,
            "_view_module": "@jupyter-widgets/base",
            "_view_module_version": "1.2.0",
            "_view_name": "LayoutView",
            "align_content": null,
            "align_items": null,
            "align_self": null,
            "border": null,
            "bottom": null,
            "display": null,
            "flex": null,
            "flex_flow": null,
            "grid_area": null,
            "grid_auto_columns": null,
            "grid_auto_flow": null,
            "grid_auto_rows": null,
            "grid_column": null,
            "grid_gap": null,
            "grid_row": null,
            "grid_template_areas": null,
            "grid_template_columns": null,
            "grid_template_rows": null,
            "height": null,
            "justify_content": null,
            "justify_items": null,
            "left": null,
            "margin": null,
            "max_height": null,
            "max_width": null,
            "min_height": null,
            "min_width": null,
            "object_fit": null,
            "object_position": null,
            "order": null,
            "overflow": null,
            "overflow_x": null,
            "overflow_y": null,
            "padding": null,
            "right": null,
            "top": null,
            "visibility": null,
            "width": null
          }
        },
        "18d9e9ba39ba4cf882b9400b709d91b2": {
          "model_module": "@jupyter-widgets/controls",
          "model_name": "DescriptionStyleModel",
          "model_module_version": "1.5.0",
          "state": {
            "_model_module": "@jupyter-widgets/controls",
            "_model_module_version": "1.5.0",
            "_model_name": "DescriptionStyleModel",
            "_view_count": null,
            "_view_module": "@jupyter-widgets/base",
            "_view_module_version": "1.2.0",
            "_view_name": "StyleView",
            "description_width": ""
          }
        },
        "bd34ccaa921c408383cd051f27ecb208": {
          "model_module": "@jupyter-widgets/base",
          "model_name": "LayoutModel",
          "model_module_version": "1.2.0",
          "state": {
            "_model_module": "@jupyter-widgets/base",
            "_model_module_version": "1.2.0",
            "_model_name": "LayoutModel",
            "_view_count": null,
            "_view_module": "@jupyter-widgets/base",
            "_view_module_version": "1.2.0",
            "_view_name": "LayoutView",
            "align_content": null,
            "align_items": null,
            "align_self": null,
            "border": null,
            "bottom": null,
            "display": null,
            "flex": null,
            "flex_flow": null,
            "grid_area": null,
            "grid_auto_columns": null,
            "grid_auto_flow": null,
            "grid_auto_rows": null,
            "grid_column": null,
            "grid_gap": null,
            "grid_row": null,
            "grid_template_areas": null,
            "grid_template_columns": null,
            "grid_template_rows": null,
            "height": null,
            "justify_content": null,
            "justify_items": null,
            "left": null,
            "margin": null,
            "max_height": null,
            "max_width": null,
            "min_height": null,
            "min_width": null,
            "object_fit": null,
            "object_position": null,
            "order": null,
            "overflow": null,
            "overflow_x": null,
            "overflow_y": null,
            "padding": null,
            "right": null,
            "top": null,
            "visibility": null,
            "width": null
          }
        },
        "ad0bfe9bef6442ea8eabc8573284450e": {
          "model_module": "@jupyter-widgets/controls",
          "model_name": "DescriptionStyleModel",
          "model_module_version": "1.5.0",
          "state": {
            "_model_module": "@jupyter-widgets/controls",
            "_model_module_version": "1.5.0",
            "_model_name": "DescriptionStyleModel",
            "_view_count": null,
            "_view_module": "@jupyter-widgets/base",
            "_view_module_version": "1.2.0",
            "_view_name": "StyleView",
            "description_width": ""
          }
        },
        "c23e1a32caa3433497a90b0fa24a00f5": {
          "model_module": "@jupyter-widgets/base",
          "model_name": "LayoutModel",
          "model_module_version": "1.2.0",
          "state": {
            "_model_module": "@jupyter-widgets/base",
            "_model_module_version": "1.2.0",
            "_model_name": "LayoutModel",
            "_view_count": null,
            "_view_module": "@jupyter-widgets/base",
            "_view_module_version": "1.2.0",
            "_view_name": "LayoutView",
            "align_content": null,
            "align_items": null,
            "align_self": null,
            "border": null,
            "bottom": null,
            "display": null,
            "flex": null,
            "flex_flow": null,
            "grid_area": null,
            "grid_auto_columns": null,
            "grid_auto_flow": null,
            "grid_auto_rows": null,
            "grid_column": null,
            "grid_gap": null,
            "grid_row": null,
            "grid_template_areas": null,
            "grid_template_columns": null,
            "grid_template_rows": null,
            "height": null,
            "justify_content": null,
            "justify_items": null,
            "left": null,
            "margin": null,
            "max_height": null,
            "max_width": null,
            "min_height": null,
            "min_width": null,
            "object_fit": null,
            "object_position": null,
            "order": null,
            "overflow": null,
            "overflow_x": null,
            "overflow_y": null,
            "padding": null,
            "right": null,
            "top": null,
            "visibility": null,
            "width": null
          }
        },
        "cea6425e7e574f74a64becc4d8c8dbe7": {
          "model_module": "@jupyter-widgets/controls",
          "model_name": "DescriptionStyleModel",
          "model_module_version": "1.5.0",
          "state": {
            "_model_module": "@jupyter-widgets/controls",
            "_model_module_version": "1.5.0",
            "_model_name": "DescriptionStyleModel",
            "_view_count": null,
            "_view_module": "@jupyter-widgets/base",
            "_view_module_version": "1.2.0",
            "_view_name": "StyleView",
            "description_width": ""
          }
        },
        "9af856d8a99046d58383c3b2c1d13ca1": {
          "model_module": "@jupyter-widgets/base",
          "model_name": "LayoutModel",
          "model_module_version": "1.2.0",
          "state": {
            "_model_module": "@jupyter-widgets/base",
            "_model_module_version": "1.2.0",
            "_model_name": "LayoutModel",
            "_view_count": null,
            "_view_module": "@jupyter-widgets/base",
            "_view_module_version": "1.2.0",
            "_view_name": "LayoutView",
            "align_content": null,
            "align_items": null,
            "align_self": null,
            "border": null,
            "bottom": null,
            "display": null,
            "flex": null,
            "flex_flow": null,
            "grid_area": null,
            "grid_auto_columns": null,
            "grid_auto_flow": null,
            "grid_auto_rows": null,
            "grid_column": null,
            "grid_gap": null,
            "grid_row": null,
            "grid_template_areas": null,
            "grid_template_columns": null,
            "grid_template_rows": null,
            "height": null,
            "justify_content": null,
            "justify_items": null,
            "left": null,
            "margin": null,
            "max_height": null,
            "max_width": null,
            "min_height": null,
            "min_width": null,
            "object_fit": null,
            "object_position": null,
            "order": null,
            "overflow": null,
            "overflow_x": null,
            "overflow_y": null,
            "padding": null,
            "right": null,
            "top": null,
            "visibility": null,
            "width": null
          }
        },
        "30c41866c5604f17a4c6c8fad42b3d5c": {
          "model_module": "@jupyter-widgets/controls",
          "model_name": "VBoxModel",
          "model_module_version": "1.5.0",
          "state": {
            "_dom_classes": [
              "widget-interact"
            ],
            "_model_module": "@jupyter-widgets/controls",
            "_model_module_version": "1.5.0",
            "_model_name": "VBoxModel",
            "_view_count": null,
            "_view_module": "@jupyter-widgets/controls",
            "_view_module_version": "1.5.0",
            "_view_name": "VBoxView",
            "box_style": "",
            "children": [
              "IPY_MODEL_f599bdc5113f4e679981904c104a0efd",
              "IPY_MODEL_79e17df7039e4a568f24cc90104e7b83",
              "IPY_MODEL_49eab0f132ad4e9689978618ec6cfd88",
              "IPY_MODEL_2aad89d9a3b34056bbfe1126b0af5a64",
              "IPY_MODEL_3b0b25cebc1047a58c30bfc33debd7e6",
              "IPY_MODEL_a34b9a0065574cecbc3f7d89be3fb09b"
            ],
            "layout": "IPY_MODEL_1d7d246f5a6a4cbab70984e85c1ea9ea"
          }
        },
        "f599bdc5113f4e679981904c104a0efd": {
          "model_module": "@jupyter-widgets/controls",
          "model_name": "FloatSliderModel",
          "model_module_version": "1.5.0",
          "state": {
            "_dom_classes": [],
            "_model_module": "@jupyter-widgets/controls",
            "_model_module_version": "1.5.0",
            "_model_name": "FloatSliderModel",
            "_view_count": null,
            "_view_module": "@jupyter-widgets/controls",
            "_view_module_version": "1.5.0",
            "_view_name": "FloatSliderView",
            "continuous_update": true,
            "description": "nwg",
            "description_tooltip": null,
            "disabled": false,
            "layout": "IPY_MODEL_8f7429e7d1274db499fbee7eaa6b7da0",
            "max": 4,
            "min": 1,
            "orientation": "horizontal",
            "readout": true,
            "readout_format": ".2f",
            "step": 0.1,
            "style": "IPY_MODEL_73cbeb1845054598bfca3fcb6a29b1db",
            "value": 2.4
          }
        },
        "79e17df7039e4a568f24cc90104e7b83": {
          "model_module": "@jupyter-widgets/controls",
          "model_name": "FloatSliderModel",
          "model_module_version": "1.5.0",
          "state": {
            "_dom_classes": [],
            "_model_module": "@jupyter-widgets/controls",
            "_model_module_version": "1.5.0",
            "_model_name": "FloatSliderModel",
            "_view_count": null,
            "_view_module": "@jupyter-widgets/controls",
            "_view_module_version": "1.5.0",
            "_view_name": "FloatSliderView",
            "continuous_update": true,
            "description": "nclad",
            "description_tooltip": null,
            "disabled": false,
            "layout": "IPY_MODEL_5bc774e6c0e84aef9684481b43933f83",
            "max": 2,
            "min": 1,
            "orientation": "horizontal",
            "readout": true,
            "readout_format": ".2f",
            "step": 0.1,
            "style": "IPY_MODEL_3d992f67f5704feb8fe54129d2b594dc",
            "value": 1.5
          }
        },
        "49eab0f132ad4e9689978618ec6cfd88": {
          "model_module": "@jupyter-widgets/controls",
          "model_name": "FloatSliderModel",
          "model_module_version": "1.5.0",
          "state": {
            "_dom_classes": [],
            "_model_module": "@jupyter-widgets/controls",
            "_model_module_version": "1.5.0",
            "_model_name": "FloatSliderModel",
            "_view_count": null,
            "_view_module": "@jupyter-widgets/controls",
            "_view_module_version": "1.5.0",
            "_view_name": "FloatSliderView",
            "continuous_update": true,
            "description": "nslab",
            "description_tooltip": null,
            "disabled": false,
            "layout": "IPY_MODEL_add9d217f9d14f17957b8764fd55492d",
            "max": 2,
            "min": 1,
            "orientation": "horizontal",
            "readout": true,
            "readout_format": ".2f",
            "step": 0.1,
            "style": "IPY_MODEL_2fdc032f9c3c4447a1585095dcc5d6b9",
            "value": 1
          }
        },
        "2aad89d9a3b34056bbfe1126b0af5a64": {
          "model_module": "@jupyter-widgets/controls",
          "model_name": "FloatSliderModel",
          "model_module_version": "1.5.0",
          "state": {
            "_dom_classes": [],
            "_model_module": "@jupyter-widgets/controls",
            "_model_module_version": "1.5.0",
            "_model_name": "FloatSliderModel",
            "_view_count": null,
            "_view_module": "@jupyter-widgets/controls",
            "_view_module_version": "1.5.0",
            "_view_name": "FloatSliderView",
            "continuous_update": true,
            "description": "wavel",
            "description_tooltip": null,
            "disabled": false,
            "layout": "IPY_MODEL_3f94c6251a654496aa11a12299fe0cf5",
            "max": 2,
            "min": 0.6,
            "orientation": "horizontal",
            "readout": true,
            "readout_format": ".2f",
            "step": 0.2,
            "style": "IPY_MODEL_89ef5641afa8439ca6138502d154d97a",
            "value": 1.2000000000000002
          }
        },
        "3b0b25cebc1047a58c30bfc33debd7e6": {
          "model_module": "@jupyter-widgets/controls",
          "model_name": "CheckboxModel",
          "model_module_version": "1.5.0",
          "state": {
            "_dom_classes": [],
            "_model_module": "@jupyter-widgets/controls",
            "_model_module_version": "1.5.0",
            "_model_name": "CheckboxModel",
            "_view_count": null,
            "_view_module": "@jupyter-widgets/controls",
            "_view_module_version": "1.5.0",
            "_view_name": "CheckboxView",
            "description": "plot",
            "description_tooltip": null,
            "disabled": false,
            "indent": true,
            "layout": "IPY_MODEL_23d8db130ced46d28393c6ffee3c7bd9",
            "style": "IPY_MODEL_e8dc4cf432d34c399b68868a8c9adc20",
            "value": false
          }
        },
        "a34b9a0065574cecbc3f7d89be3fb09b": {
          "model_module": "@jupyter-widgets/output",
          "model_name": "OutputModel",
          "model_module_version": "1.0.0",
          "state": {
            "_dom_classes": [],
            "_model_module": "@jupyter-widgets/output",
            "_model_module_version": "1.0.0",
            "_model_name": "OutputModel",
            "_view_count": null,
            "_view_module": "@jupyter-widgets/output",
            "_view_module_version": "1.0.0",
            "_view_name": "OutputView",
            "layout": "IPY_MODEL_cd6b1622ad684b2ea434e21a074ff31e",
            "msg_id": "",
            "outputs": []
          }
        },
        "1d7d246f5a6a4cbab70984e85c1ea9ea": {
          "model_module": "@jupyter-widgets/base",
          "model_name": "LayoutModel",
          "model_module_version": "1.2.0",
          "state": {
            "_model_module": "@jupyter-widgets/base",
            "_model_module_version": "1.2.0",
            "_model_name": "LayoutModel",
            "_view_count": null,
            "_view_module": "@jupyter-widgets/base",
            "_view_module_version": "1.2.0",
            "_view_name": "LayoutView",
            "align_content": null,
            "align_items": null,
            "align_self": null,
            "border": null,
            "bottom": null,
            "display": null,
            "flex": null,
            "flex_flow": null,
            "grid_area": null,
            "grid_auto_columns": null,
            "grid_auto_flow": null,
            "grid_auto_rows": null,
            "grid_column": null,
            "grid_gap": null,
            "grid_row": null,
            "grid_template_areas": null,
            "grid_template_columns": null,
            "grid_template_rows": null,
            "height": null,
            "justify_content": null,
            "justify_items": null,
            "left": null,
            "margin": null,
            "max_height": null,
            "max_width": null,
            "min_height": null,
            "min_width": null,
            "object_fit": null,
            "object_position": null,
            "order": null,
            "overflow": null,
            "overflow_x": null,
            "overflow_y": null,
            "padding": null,
            "right": null,
            "top": null,
            "visibility": null,
            "width": null
          }
        },
        "8f7429e7d1274db499fbee7eaa6b7da0": {
          "model_module": "@jupyter-widgets/base",
          "model_name": "LayoutModel",
          "model_module_version": "1.2.0",
          "state": {
            "_model_module": "@jupyter-widgets/base",
            "_model_module_version": "1.2.0",
            "_model_name": "LayoutModel",
            "_view_count": null,
            "_view_module": "@jupyter-widgets/base",
            "_view_module_version": "1.2.0",
            "_view_name": "LayoutView",
            "align_content": null,
            "align_items": null,
            "align_self": null,
            "border": null,
            "bottom": null,
            "display": null,
            "flex": null,
            "flex_flow": null,
            "grid_area": null,
            "grid_auto_columns": null,
            "grid_auto_flow": null,
            "grid_auto_rows": null,
            "grid_column": null,
            "grid_gap": null,
            "grid_row": null,
            "grid_template_areas": null,
            "grid_template_columns": null,
            "grid_template_rows": null,
            "height": null,
            "justify_content": null,
            "justify_items": null,
            "left": null,
            "margin": null,
            "max_height": null,
            "max_width": null,
            "min_height": null,
            "min_width": null,
            "object_fit": null,
            "object_position": null,
            "order": null,
            "overflow": null,
            "overflow_x": null,
            "overflow_y": null,
            "padding": null,
            "right": null,
            "top": null,
            "visibility": null,
            "width": null
          }
        },
        "73cbeb1845054598bfca3fcb6a29b1db": {
          "model_module": "@jupyter-widgets/controls",
          "model_name": "SliderStyleModel",
          "model_module_version": "1.5.0",
          "state": {
            "_model_module": "@jupyter-widgets/controls",
            "_model_module_version": "1.5.0",
            "_model_name": "SliderStyleModel",
            "_view_count": null,
            "_view_module": "@jupyter-widgets/base",
            "_view_module_version": "1.2.0",
            "_view_name": "StyleView",
            "description_width": "",
            "handle_color": null
          }
        },
        "5bc774e6c0e84aef9684481b43933f83": {
          "model_module": "@jupyter-widgets/base",
          "model_name": "LayoutModel",
          "model_module_version": "1.2.0",
          "state": {
            "_model_module": "@jupyter-widgets/base",
            "_model_module_version": "1.2.0",
            "_model_name": "LayoutModel",
            "_view_count": null,
            "_view_module": "@jupyter-widgets/base",
            "_view_module_version": "1.2.0",
            "_view_name": "LayoutView",
            "align_content": null,
            "align_items": null,
            "align_self": null,
            "border": null,
            "bottom": null,
            "display": null,
            "flex": null,
            "flex_flow": null,
            "grid_area": null,
            "grid_auto_columns": null,
            "grid_auto_flow": null,
            "grid_auto_rows": null,
            "grid_column": null,
            "grid_gap": null,
            "grid_row": null,
            "grid_template_areas": null,
            "grid_template_columns": null,
            "grid_template_rows": null,
            "height": null,
            "justify_content": null,
            "justify_items": null,
            "left": null,
            "margin": null,
            "max_height": null,
            "max_width": null,
            "min_height": null,
            "min_width": null,
            "object_fit": null,
            "object_position": null,
            "order": null,
            "overflow": null,
            "overflow_x": null,
            "overflow_y": null,
            "padding": null,
            "right": null,
            "top": null,
            "visibility": null,
            "width": null
          }
        },
        "3d992f67f5704feb8fe54129d2b594dc": {
          "model_module": "@jupyter-widgets/controls",
          "model_name": "SliderStyleModel",
          "model_module_version": "1.5.0",
          "state": {
            "_model_module": "@jupyter-widgets/controls",
            "_model_module_version": "1.5.0",
            "_model_name": "SliderStyleModel",
            "_view_count": null,
            "_view_module": "@jupyter-widgets/base",
            "_view_module_version": "1.2.0",
            "_view_name": "StyleView",
            "description_width": "",
            "handle_color": null
          }
        },
        "add9d217f9d14f17957b8764fd55492d": {
          "model_module": "@jupyter-widgets/base",
          "model_name": "LayoutModel",
          "model_module_version": "1.2.0",
          "state": {
            "_model_module": "@jupyter-widgets/base",
            "_model_module_version": "1.2.0",
            "_model_name": "LayoutModel",
            "_view_count": null,
            "_view_module": "@jupyter-widgets/base",
            "_view_module_version": "1.2.0",
            "_view_name": "LayoutView",
            "align_content": null,
            "align_items": null,
            "align_self": null,
            "border": null,
            "bottom": null,
            "display": null,
            "flex": null,
            "flex_flow": null,
            "grid_area": null,
            "grid_auto_columns": null,
            "grid_auto_flow": null,
            "grid_auto_rows": null,
            "grid_column": null,
            "grid_gap": null,
            "grid_row": null,
            "grid_template_areas": null,
            "grid_template_columns": null,
            "grid_template_rows": null,
            "height": null,
            "justify_content": null,
            "justify_items": null,
            "left": null,
            "margin": null,
            "max_height": null,
            "max_width": null,
            "min_height": null,
            "min_width": null,
            "object_fit": null,
            "object_position": null,
            "order": null,
            "overflow": null,
            "overflow_x": null,
            "overflow_y": null,
            "padding": null,
            "right": null,
            "top": null,
            "visibility": null,
            "width": null
          }
        },
        "2fdc032f9c3c4447a1585095dcc5d6b9": {
          "model_module": "@jupyter-widgets/controls",
          "model_name": "SliderStyleModel",
          "model_module_version": "1.5.0",
          "state": {
            "_model_module": "@jupyter-widgets/controls",
            "_model_module_version": "1.5.0",
            "_model_name": "SliderStyleModel",
            "_view_count": null,
            "_view_module": "@jupyter-widgets/base",
            "_view_module_version": "1.2.0",
            "_view_name": "StyleView",
            "description_width": "",
            "handle_color": null
          }
        },
        "3f94c6251a654496aa11a12299fe0cf5": {
          "model_module": "@jupyter-widgets/base",
          "model_name": "LayoutModel",
          "model_module_version": "1.2.0",
          "state": {
            "_model_module": "@jupyter-widgets/base",
            "_model_module_version": "1.2.0",
            "_model_name": "LayoutModel",
            "_view_count": null,
            "_view_module": "@jupyter-widgets/base",
            "_view_module_version": "1.2.0",
            "_view_name": "LayoutView",
            "align_content": null,
            "align_items": null,
            "align_self": null,
            "border": null,
            "bottom": null,
            "display": null,
            "flex": null,
            "flex_flow": null,
            "grid_area": null,
            "grid_auto_columns": null,
            "grid_auto_flow": null,
            "grid_auto_rows": null,
            "grid_column": null,
            "grid_gap": null,
            "grid_row": null,
            "grid_template_areas": null,
            "grid_template_columns": null,
            "grid_template_rows": null,
            "height": null,
            "justify_content": null,
            "justify_items": null,
            "left": null,
            "margin": null,
            "max_height": null,
            "max_width": null,
            "min_height": null,
            "min_width": null,
            "object_fit": null,
            "object_position": null,
            "order": null,
            "overflow": null,
            "overflow_x": null,
            "overflow_y": null,
            "padding": null,
            "right": null,
            "top": null,
            "visibility": null,
            "width": null
          }
        },
        "89ef5641afa8439ca6138502d154d97a": {
          "model_module": "@jupyter-widgets/controls",
          "model_name": "SliderStyleModel",
          "model_module_version": "1.5.0",
          "state": {
            "_model_module": "@jupyter-widgets/controls",
            "_model_module_version": "1.5.0",
            "_model_name": "SliderStyleModel",
            "_view_count": null,
            "_view_module": "@jupyter-widgets/base",
            "_view_module_version": "1.2.0",
            "_view_name": "StyleView",
            "description_width": "",
            "handle_color": null
          }
        },
        "23d8db130ced46d28393c6ffee3c7bd9": {
          "model_module": "@jupyter-widgets/base",
          "model_name": "LayoutModel",
          "model_module_version": "1.2.0",
          "state": {
            "_model_module": "@jupyter-widgets/base",
            "_model_module_version": "1.2.0",
            "_model_name": "LayoutModel",
            "_view_count": null,
            "_view_module": "@jupyter-widgets/base",
            "_view_module_version": "1.2.0",
            "_view_name": "LayoutView",
            "align_content": null,
            "align_items": null,
            "align_self": null,
            "border": null,
            "bottom": null,
            "display": null,
            "flex": null,
            "flex_flow": null,
            "grid_area": null,
            "grid_auto_columns": null,
            "grid_auto_flow": null,
            "grid_auto_rows": null,
            "grid_column": null,
            "grid_gap": null,
            "grid_row": null,
            "grid_template_areas": null,
            "grid_template_columns": null,
            "grid_template_rows": null,
            "height": null,
            "justify_content": null,
            "justify_items": null,
            "left": null,
            "margin": null,
            "max_height": null,
            "max_width": null,
            "min_height": null,
            "min_width": null,
            "object_fit": null,
            "object_position": null,
            "order": null,
            "overflow": null,
            "overflow_x": null,
            "overflow_y": null,
            "padding": null,
            "right": null,
            "top": null,
            "visibility": null,
            "width": null
          }
        },
        "e8dc4cf432d34c399b68868a8c9adc20": {
          "model_module": "@jupyter-widgets/controls",
          "model_name": "DescriptionStyleModel",
          "model_module_version": "1.5.0",
          "state": {
            "_model_module": "@jupyter-widgets/controls",
            "_model_module_version": "1.5.0",
            "_model_name": "DescriptionStyleModel",
            "_view_count": null,
            "_view_module": "@jupyter-widgets/base",
            "_view_module_version": "1.2.0",
            "_view_name": "StyleView",
            "description_width": ""
          }
        },
        "cd6b1622ad684b2ea434e21a074ff31e": {
          "model_module": "@jupyter-widgets/base",
          "model_name": "LayoutModel",
          "model_module_version": "1.2.0",
          "state": {
            "_model_module": "@jupyter-widgets/base",
            "_model_module_version": "1.2.0",
            "_model_name": "LayoutModel",
            "_view_count": null,
            "_view_module": "@jupyter-widgets/base",
            "_view_module_version": "1.2.0",
            "_view_name": "LayoutView",
            "align_content": null,
            "align_items": null,
            "align_self": null,
            "border": null,
            "bottom": null,
            "display": null,
            "flex": null,
            "flex_flow": null,
            "grid_area": null,
            "grid_auto_columns": null,
            "grid_auto_flow": null,
            "grid_auto_rows": null,
            "grid_column": null,
            "grid_gap": null,
            "grid_row": null,
            "grid_template_areas": null,
            "grid_template_columns": null,
            "grid_template_rows": null,
            "height": null,
            "justify_content": null,
            "justify_items": null,
            "left": null,
            "margin": null,
            "max_height": null,
            "max_width": null,
            "min_height": null,
            "min_width": null,
            "object_fit": null,
            "object_position": null,
            "order": null,
            "overflow": null,
            "overflow_x": null,
            "overflow_y": null,
            "padding": null,
            "right": null,
            "top": null,
            "visibility": null,
            "width": null
          }
        }
      }
    }
  },
  "nbformat": 4,
  "nbformat_minor": 0
}